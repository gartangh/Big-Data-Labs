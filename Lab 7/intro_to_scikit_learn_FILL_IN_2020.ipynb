{
  "nbformat": 4,
  "nbformat_minor": 0,
  "metadata": {
    "kernelspec": {
      "display_name": "Python 3",
      "language": "python",
      "name": "python3"
    },
    "language_info": {
      "codemirror_mode": {
        "name": "ipython",
        "version": 3
      },
      "file_extension": ".py",
      "mimetype": "text/x-python",
      "name": "python",
      "nbconvert_exporter": "python",
      "pygments_lexer": "ipython3",
      "version": "3.7.0"
    },
    "colab": {
      "name": "intro_to_scikit_learn_FILL_IN_2020.ipynb",
      "provenance": []
    }
  },
  "cells": [
    {
      "cell_type": "markdown",
      "metadata": {
        "collapsed": true,
        "id": "iUgOJmzzzrJm",
        "colab_type": "text"
      },
      "source": [
        "# Basic introduction to Ski-Kit Learn: Analyzing Twitter tweets"
      ]
    },
    {
      "cell_type": "markdown",
      "metadata": {
        "id": "eYh1X_HdzrJo",
        "colab_type": "text"
      },
      "source": [
        "## A. Connecting to Twitter API and getting Twitter credentials:\n",
        "\n",
        "1. Create a Twitter account on https://twitter.com.\n",
        "2. Go to https://developer.twitter.com/en/apps and log in with your Twitter account.\n",
        "3. Click “Create an App” and fill in details of the application (See Minerva for a more detailed explanation).\n",
        "4. The application’s tokens and keys are available in the “Keys and Access Tokens” tab.\n",
        "\n",
        "\n",
        "To gather Tweets, we will use the [Tweepy](https://github.com/tweepy/tweepy) library. To install Tweepy, open the command prompt as an administrator and run the following pip command: **pip install tweepy**."
      ]
    },
    {
      "cell_type": "code",
      "metadata": {
        "id": "OSGwYECe0olk",
        "colab_type": "code",
        "colab": {
          "base_uri": "https://localhost:8080/",
          "height": 189
        },
        "outputId": "da090c83-5c38-4d04-98af-6b50aa7f6125"
      },
      "source": [
        "!pip install tweepy"
      ],
      "execution_count": 1,
      "outputs": [
        {
          "output_type": "stream",
          "text": [
            "Requirement already satisfied: tweepy in /usr/local/lib/python3.6/dist-packages (3.6.0)\n",
            "Requirement already satisfied: PySocks>=1.5.7 in /usr/local/lib/python3.6/dist-packages (from tweepy) (1.7.1)\n",
            "Requirement already satisfied: six>=1.10.0 in /usr/local/lib/python3.6/dist-packages (from tweepy) (1.12.0)\n",
            "Requirement already satisfied: requests>=2.11.1 in /usr/local/lib/python3.6/dist-packages (from tweepy) (2.21.0)\n",
            "Requirement already satisfied: requests-oauthlib>=0.7.0 in /usr/local/lib/python3.6/dist-packages (from tweepy) (1.3.0)\n",
            "Requirement already satisfied: certifi>=2017.4.17 in /usr/local/lib/python3.6/dist-packages (from requests>=2.11.1->tweepy) (2019.11.28)\n",
            "Requirement already satisfied: idna<2.9,>=2.5 in /usr/local/lib/python3.6/dist-packages (from requests>=2.11.1->tweepy) (2.8)\n",
            "Requirement already satisfied: chardet<3.1.0,>=3.0.2 in /usr/local/lib/python3.6/dist-packages (from requests>=2.11.1->tweepy) (3.0.4)\n",
            "Requirement already satisfied: urllib3<1.25,>=1.21.1 in /usr/local/lib/python3.6/dist-packages (from requests>=2.11.1->tweepy) (1.24.3)\n",
            "Requirement already satisfied: oauthlib>=3.0.0 in /usr/local/lib/python3.6/dist-packages (from requests-oauthlib>=0.7.0->tweepy) (3.1.0)\n"
          ],
          "name": "stdout"
        }
      ]
    },
    {
      "cell_type": "code",
      "metadata": {
        "id": "w1yifPkwzrJq",
        "colab_type": "code",
        "colab": {}
      },
      "source": [
        "import tweepy\n",
        "\n",
        "# Consumer keys and access tokens, used for OAuth\n",
        "consumer_key = 'removed keys for security reasons'\n",
        "consumer_secret = 'removed keys for security reasons'\n",
        "access_token = 'removed keys for security reasons'\n",
        "access_token_secret = 'removed keys for security reasons'\n",
        "\n",
        "auth = tweepy.OAuthHandler(consumer_key, consumer_secret)\n",
        "auth.set_access_token(access_token, access_token_secret)\n",
        "\n",
        "# Calling the api\n",
        "api = tweepy.API(auth)"
      ],
      "execution_count": 0,
      "outputs": []
    },
    {
      "cell_type": "markdown",
      "metadata": {
        "id": "NL0Pwi2gzrJ0",
        "colab_type": "text"
      },
      "source": [
        "Now we can interact with the API. For this lab, we will deal with gathering and analyzing tweets from certain Twitter accounts.\n",
        "Statuses posted by a specified user can be collected with a [GET statuses/user_timeline](https://developer.twitter.com/en/docs/tweets/timelines/api-reference/get-statuses-user_timeline) request.\n",
        "This boils down to a Tweepy user_timeline method.\n",
        "Have a look at the [syntax](http://docs.tweepy.org/en/v3.5.0/api.html) and possibilities.\n",
        "Let's take a look at the latest 5 Tweets by @Bart_DeWever (a Belgian politician): "
      ]
    },
    {
      "cell_type": "code",
      "metadata": {
        "id": "iExxSM3HzrJ1",
        "colab_type": "code",
        "colab": {
          "base_uri": "https://localhost:8080/",
          "height": 51
        },
        "outputId": "286a0cf8-882e-49c6-bd66-93acdd51de40"
      },
      "source": [
        "handle = '@Bart_DeWever'\n",
        "number_of_tweets = 5\n",
        "tweets = api.user_timeline(screen_name=handle, count=number_of_tweets)\n",
        "\n",
        "print(type(tweets))\n",
        "print(type(tweets[0]))"
      ],
      "execution_count": 3,
      "outputs": [
        {
          "output_type": "stream",
          "text": [
            "<class 'tweepy.models.ResultSet'>\n",
            "<class 'tweepy.models.Status'>\n"
          ],
          "name": "stdout"
        }
      ]
    },
    {
      "cell_type": "markdown",
      "metadata": {
        "id": "Ue4h5irgzrJ9",
        "colab_type": "text"
      },
      "source": [
        "Note that tweets is a set of Tweepy **'Status' objects**. Take a look [here](https://gist.github.com/jaymcgrath/367c521f1dd786bc5a05ec3eeeb1cb04) to see all the attributes and subattributes of the object.\n",
        "For example, we can get the text and author's name of the latest tweet by using the following commands:"
      ]
    },
    {
      "cell_type": "code",
      "metadata": {
        "id": "EfozkXbUzrJ_",
        "colab_type": "code",
        "colab": {
          "base_uri": "https://localhost:8080/",
          "height": 51
        },
        "outputId": "de15511c-a76e-4ed3-eb35-2101ffb46316"
      },
      "source": [
        "print(tweets[0].text)\n",
        "print(tweets[1].author.name)"
      ],
      "execution_count": 4,
      "outputs": [
        {
          "output_type": "stream",
          "text": [
            "In Antwerpen nam onze politie de eerste tegen woekerprijs aangeboden mondmaskers in beslag en bracht die naar een z… https://t.co/SdgmO082pE\n",
            "Bart De Wever\n"
          ],
          "name": "stdout"
        }
      ]
    },
    {
      "cell_type": "markdown",
      "metadata": {
        "id": "sBAzPLEIzrKG",
        "colab_type": "text"
      },
      "source": [
        "**Task**: Find the author's location. How many retweets did his latest post have? Check his Twitter page to verify your answer. "
      ]
    },
    {
      "cell_type": "code",
      "metadata": {
        "id": "S-IspObVzrKH",
        "colab_type": "code",
        "colab": {
          "base_uri": "https://localhost:8080/",
          "height": 51
        },
        "outputId": "ffdecf50-a906-4501-9710-5f91288e299a"
      },
      "source": [
        "location = tweets[0].author.location\n",
        "retweets = tweets[0].retweet_count\n",
        "\n",
        "print('The author\\'s location is '+location)\n",
        "print('His latest post has '+repr(retweets)+' retweets')"
      ],
      "execution_count": 5,
      "outputs": [
        {
          "output_type": "stream",
          "text": [
            "The author's location is Antwerpen\n",
            "His latest post has 218 retweets\n"
          ],
          "name": "stdout"
        }
      ]
    },
    {
      "cell_type": "markdown",
      "metadata": {
        "id": "wer1pCEAzrKP",
        "colab_type": "text"
      },
      "source": [
        "**Retweets** can be excluded by adding the parameter '**include_rts = False**' to the user_timeline command. Note however that the count parameter still counts retweets, and hence usually len(tweets) < number_of_tweets."
      ]
    },
    {
      "cell_type": "markdown",
      "metadata": {
        "id": "U-K1LkbRzrKQ",
        "colab_type": "text"
      },
      "source": [
        "**Task**: Out of his latest 10 posts, print all his original Tweets (= a Tweet that is not a retweet)."
      ]
    },
    {
      "cell_type": "code",
      "metadata": {
        "id": "1FV7IR13zrKR",
        "colab_type": "code",
        "colab": {
          "base_uri": "https://localhost:8080/",
          "height": 172
        },
        "outputId": "69db8156-a7fd-4658-d74a-045a1118cc76"
      },
      "source": [
        "number_of_tweets = 10\n",
        "tweets = api.user_timeline(screen_name=handle, count=number_of_tweets, include_rts=False)\n",
        "for i, tweet in enumerate(tweets):\n",
        "  print(f'{i}\\t: {tweet.text}')"
      ],
      "execution_count": 6,
      "outputs": [
        {
          "output_type": "stream",
          "text": [
            "0\t: In Antwerpen nam onze politie de eerste tegen woekerprijs aangeboden mondmaskers in beslag en bracht die naar een z… https://t.co/SdgmO082pE\n",
            "1\t: Veel steun aan wie dezer dagen werkt in de zorg of distributie, in winkels of supermarkten, en ook aan hulpdiensten… https://t.co/Ddpz0rjvUM\n",
            "2\t: Dit zijn de belangrijkste standpunten die wij verdedigen aan de onderhandelingstafel: 👇\n",
            "https://t.co/jl1jzH6tQv\n",
            "3\t: We nemen akte van het PS-dictaat. Tegen de wil van de Vlaamse kiezer in moet er voor hen een zo links mogelijke reg… https://t.co/8XfejN5f7D\n",
            "4\t: In de ranking van @FT schuift Antwerpen naar de 2de plaats in de lijst van de beste grote steden om te investeren.… https://t.co/ZXoDZFTzA3\n",
            "5\t: Het unitarisme dat @GLBouchez voorstelt werpt ons terug naar de 19de eeuw. Iedereen heeft recht op een eigen opinie… https://t.co/SWRYjE7gBH\n",
            "6\t: Nooit mag terechte onvrede over het Europees migratiebeleid zich omzetten in wrok naar mensen. In de Vlaamse natie… https://t.co/HNcNkXyzFU\n",
            "7\t: Met een dierbare herinnering aan ons lang gesprek, anderhalf jaar geleden, bied ik mijn deelneming aan voor het ove… https://t.co/cSToXabr3T\n"
          ],
          "name": "stdout"
        }
      ]
    },
    {
      "cell_type": "markdown",
      "metadata": {
        "id": "WgmGxXPbzrKY",
        "colab_type": "text"
      },
      "source": [
        "## B. SciKit Learn and Machine Learning in practice: an introduction \n",
        "The **problem** is as follows: We want to analyze the latest tweets by the leaders of the Belgian political parties. Based on their chosen language, the topics they discuss, the hashtags etc., we would like to see if we can predict which Tweet belongs to who. __Text classification__ is a common Machine Learning task, and we expect that our problem should have a somewhat decent solution. Indeed, we can imagine a right-wing politician and a left-wing/green politican to tweet differently about ongoing events or political topics.\n",
        "\n",
        "First, install the following packages: **pip install sklearn**, **pip install nltk** and **pip install numpy**\n",
        "\n",
        "### 1. Bag-of-words Model\n",
        "In our model, each datapoint consists of the text of a Tweet and an associated label (= the Author's name). However, in order to run some generic black-box classifier, we need to convert this data to numeric values.\n",
        "The **labels** can easily be converted by just assigning an integer value to each Author. The text can be converted to numeric **features** by using the well-known [Bag-of-Words](https://en.wikipedia.org/wiki/Bag-of-words_model) model. Basically, we keep track of all the unique words in all the Tweets, and for each unique word, we count how many times it occurs in each Tweet.\n",
        "\n",
        "In scikit-learn, this is done by a **vectorizer**, see Section 4.2.3 [here](https://scikit-learn.org/stable/modules/feature_extraction.html#the-bag-of-words-representation). Let's apply this to our corpus of Tweets."
      ]
    },
    {
      "cell_type": "code",
      "metadata": {
        "id": "EgrJ4Gzm3Mf1",
        "colab_type": "code",
        "colab": {
          "base_uri": "https://localhost:8080/",
          "height": 137
        },
        "outputId": "f0ee65fa-acb6-406c-db66-7e652e71f285"
      },
      "source": [
        "!pip install sklearn nltk numpy"
      ],
      "execution_count": 7,
      "outputs": [
        {
          "output_type": "stream",
          "text": [
            "Requirement already satisfied: sklearn in /usr/local/lib/python3.6/dist-packages (0.0)\n",
            "Requirement already satisfied: nltk in /usr/local/lib/python3.6/dist-packages (3.2.5)\n",
            "Requirement already satisfied: numpy in /usr/local/lib/python3.6/dist-packages (1.18.2)\n",
            "Requirement already satisfied: scikit-learn in /usr/local/lib/python3.6/dist-packages (from sklearn) (0.22.2.post1)\n",
            "Requirement already satisfied: six in /usr/local/lib/python3.6/dist-packages (from nltk) (1.12.0)\n",
            "Requirement already satisfied: joblib>=0.11 in /usr/local/lib/python3.6/dist-packages (from scikit-learn->sklearn) (0.14.1)\n",
            "Requirement already satisfied: scipy>=0.17.0 in /usr/local/lib/python3.6/dist-packages (from scikit-learn->sklearn) (1.4.1)\n"
          ],
          "name": "stdout"
        }
      ]
    },
    {
      "cell_type": "code",
      "metadata": {
        "scrolled": true,
        "id": "UQ5e_ufHzrKb",
        "colab_type": "code",
        "colab": {
          "base_uri": "https://localhost:8080/",
          "height": 54
        },
        "outputId": "fe274570-f785-442e-c71b-a380b4fa35f0"
      },
      "source": [
        "# Importing packages.\n",
        "from sklearn.feature_extraction.text import CountVectorizer\n",
        "from sklearn.feature_extraction.text import TfidfTransformer\n",
        "import re\n",
        "import numpy as np\n",
        "import nltk\n",
        "\n",
        "# Twitter handles of the politicians.\n",
        "handles = ['@Bart_DeWever', '@conner_rousseau', '@RuttenGwendolyn', '@MeyremAlmaci', '@tomvangrieken']\n",
        "number_of_tweets = 200\n",
        "corpus = [] # a list of the text in all the tweets from the handles. \n",
        "labels = [] # a list with the numeric label of each tweet (1='@Bart_DeWever', 2='@wbeke', etc.)\n",
        "teller = 1\n",
        "\n",
        "# Getting the Tweets from the handles, excluding Retweets and getting full_text from the tweets.\n",
        "for name in handles:\n",
        "    tweets = api.user_timeline(screen_name=name, count=number_of_tweets, include_rts=False, tweet_mode=\"extended\")\n",
        "    corpus = corpus + [t.full_text for t in tweets] # getting the full text tweets.\n",
        "    labels = labels + [teller for i in range(0,len(tweets))]\n",
        "    teller +=1\n",
        "\n",
        "print(corpus[0:5]) # Printing the first tweets in the corpus. "
      ],
      "execution_count": 8,
      "outputs": [
        {
          "output_type": "stream",
          "text": [
            "['In Antwerpen nam onze politie de eerste tegen woekerprijs aangeboden mondmaskers in beslag en bracht die naar een ziekenhuis. \\n👉 Ziet u zoiets? \\n📞 Meld het aub aan de politie @PZAntwerpen ! 👮🏻\\u200d♀️👮🏻\\u200d♂️', 'Veel steun aan wie dezer dagen werkt in de zorg of distributie, in winkels of supermarkten, en ook aan hulpdiensten, leerkrachten enz. \\n\\nDraag zorg voor elkaar en denk aan het klavertjevier: was je handen, hou veilige afstand, blijf thuis en nies in je zakdoek of elleboog. 🍀 https://t.co/LGPH43twNr', 'Dit zijn de belangrijkste standpunten die wij verdedigen aan de onderhandelingstafel: 👇\\nhttps://t.co/jl1jzH6tQv', 'We nemen akte van het PS-dictaat. Tegen de wil van de Vlaamse kiezer in moet er voor hen een zo links mogelijke regering komen, zonder meerderheid in Vlaanderen. De PS wil zelfs verkiezingen uitlokken, enkel en alleen in de hoop om de N-VA te verzwakken en zichzelf te versterken. https://t.co/U6UaoxeZk4', 'In de ranking van @FT schuift Antwerpen naar de 2de plaats in de lijst van de beste grote steden om te investeren. De Vlaamse welvaartsmotor draait op volle toeren. Wat we zelf doen, doen we echt beter. Investeringen op recordhoogte, optimistisch voor onze toekomst. https://t.co/Acpg3CfIkx']\n"
          ],
          "name": "stdout"
        }
      ]
    },
    {
      "cell_type": "code",
      "metadata": {
        "id": "YEkCtiqvzrKi",
        "colab_type": "code",
        "colab": {
          "base_uri": "https://localhost:8080/",
          "height": 71
        },
        "outputId": "d28809b2-4373-4ea1-b796-35a9a6318a4f"
      },
      "source": [
        "# Now we convert this corpus to a numeric matrix X:\n",
        "vectorizer = CountVectorizer()\n",
        "X = vectorizer.fit_transform(corpus)\n",
        "\n",
        "print(vectorizer.get_feature_names()) #__Checking the words that are vectorized, and thus part of the model.\n",
        "print(X.shape) #__ Checking the dimension of the matrix."
      ],
      "execution_count": 9,
      "outputs": [
        {
          "output_type": "stream",
          "text": [
            "['000', '03', '04', '0nl9mfedfi', '10', '100', '1000', '1000den', '1099ehhglt', '10n', '11november', '12', '125', '13', '135', '13de', '14', '150', '16fdrwb8wl', '17', '1700', '172', '1813', '18jr', '1944', '1948', '1949', '19de', '1c1gjhoylk', '1e', '1kuwwqcgdv', '1lkbfdgrmh', '1n3zzc0kge', '1xw2h1o7zm', '2000', '2002', '2008', '2010', '2017', '2018', '2019', '2020', '2030', '2060', '21', '21ste', '22', '22maart', '22maart2016', '23zs6rw7cy', '240', '27', '270', '28', '28jxr2pmxt', '2avgikk9vm', '2de', '2e', '2ga2ds0ce6', '2npy5muogv', '2vglmyuj9j', '2xwar5sgk8', '30u', '31', '35', '3d4x7hm1af', '3iwbd2afte', '3qmgoyiecb', '3shmlqnps2', '3tgtlw9ecw', '41vccnukvl', '441', '48fodg1ste', '4ham2bhf9m', '4yygc0j0dg', '50', '500', '51zhzcbhuk', '53edfundoi', '58', '5a7cvpykcn', '5dqxeiag2j', '5fimrtaf25', '5jr', '5nax4zzbyg', '5ninz8l7ka', '5qqzuhk6y4', '5s7jf5dw4d', '5shluijqaz', '5w33yiwpjc', '60', '62jvrivdw5', '63', '65000', '65vlvdhepr', '6bcbtl3d7q', '6evosc7vgl', '6kahrovxvu', '6qkhx7fyv4', '6qlwrttc2f', '6yfwk1flre', '70', '70ste', '73oo1f4fxy', '75', '79', '7dag', '7mxnxjbxor', '7pkns0wglt', '7wcb41pxov', '800', '82h7pako82', '85', '8gl1vuzhqs', '8gzo4iqc25', '8ll0imrkcp', '8ruyge46ph', '8tfb96mav2', '90', '9ce2wo1g5n', '9d8qfkm2n7', '9j9tlycnot', '9lij8m9o6o', '9oiv3kleik', '9qcgh9zex2', '9szeomimo1', '9v4ytvjpu9', 'a2m9fzidmk', 'a6aodjavo3', 'aan', 'aanbeveling', 'aanbevelingen', 'aanbevolen', 'aanbood', 'aandachtspunt', 'aangaan', 'aangeboden', 'aangeklaagd', 'aangenamer', 'aangepakt', 'aangepast', 'aangevuld', 'aangezien', 'aangezwengeld', 'aangrijpend', 'aangroeien', 'aanhoudende', 'aankomt', 'aanleiding', 'aanpak', 'aanpakken', 'aanslagen', 'aansluiten', 'aanspreken', 'aanvaarden', 'aanval', 'aanvallen', 'aanwezig', 'aanwinst', 'aanzien', 'aap', 'aarde', 'aarschottenaar', 'aartsmoeilijk', 'abed', 'about', 'absolute', 'absoluut', 'academici', 'accepteren', 'accipere', 'achter', 'achteraf', 'achtergehouden', 'achtergrond', 'achtergronden', 'achteruit', 'achteruitgang', 'acpg3cfikx', 'acreurope', 'actie', 'actief', 'acties', 'activeren', 'add', 'addertje2', 'adlcykqzcu', 'administratief', 'aentwaerpe', 'af', 'afblokken', 'afbreuk', 'afcbhsymgr', 'afgedaan', 'afgelopen', 'afkomsten', 'aflevering', 'afpl4mbzcs', 'afschaffing', 'afscheid', 'afschuwelijke', 'afspraak', 'afstand', 'afstappen', 'afstel', 'afux4wiif1', 'afvallen', 'afvragen', 'agent', 'agenten', 'ah', 'ah78qa8zv4', 'ahr8ui87uy', 'ai', 'akkoord', 'akkoorden', 'akte', 'al', 'alain', 'alainkerkhofs', 'alainmoutonvl', 'alexroumans', 'algemeen', 'alle', 'alleen', 'allemaal', 'allemaalmensen', 'allemaalsamen', 'allemaalsamentegencorona', 'allen', 'allerbelangrijkste', 'allergisch', 'allerlei', 'alles', 'alleszins', 'allez', 'alliantie', 'als', 'alternatief', 'alternatieven', 'altijd', 'altijdbeschermd', 'alvast', 'amai', 'amazonfires', 'ambassadeur', 'ambitie', 'ambitieloze', 'ambitieus', 'ambitieuze', 'ambt', 'amehoela4', 'ament', 'amp', 'amsterdam', 'amusement', 'an', 'analyse', 'anciënniteit', 'ander', 'andere', 'anderen', 'anderhalf', 'anders', 'andersdenkenden', 'anderzijds', 'aneqmxrun4', 'angeline', 'angelou', 'angrybirds', 'angstzaaierij', 'anmoerenhout', 'anne_verm', 'annickderidder', 'anno', 'antisemitische', 'antwerp', 'antwerpen', 'antwerpenaren', 'antwerppride', 'antwerps', 'antwerpse', 'antwerpspace', 'antwoord', 'antwoorden', 'apartheid', 'apothekers', 'apothekerschaal', 'app', 'appdo3t36f', 'apple', 'appreciatie', 'april', 'are', 'armere', 'armoede', 'armoedebeleid', 'arnaud', 'art', 'artikel', 'artsen', 'as', 'asielcentrum', 'asielinstroom', 'asielzoekers', 'asnypozpk4', 'aso', 'asociaal', 'assad', 'assita_kanko', 'attent', 'au', 'aub', 'audace', 'aujourd', 'aura', 'australianopen', 'auteur', 'autonomie', 'autoritaire', 'avcvdb', 'ave', 'averechts', 'avond', 'award', 'azidi6vqv5', 'azyxgmsdcw', 'b4wlxgmi6z', 'b5vzpoedrt', 'b9lupikl0o', 'baan', 'babk1639xj', 'back', 'backlash', 'badge', 'bagger', 'bah', 'bak', 'baken', 'bakken', 'ban', 'bananenrepubliek', 'bank', 'bannelingen', 'bannen', 'barcelona', 'bart', 'bart_dewever', 'bartdeconinck', 'bartgauthier', 'bartsomers', 'bartstaes', 'barttommelein', 'bartvanloo', 'bartverhulstvrt', 'basis', 'basisbeginselen', 'basisonderwijs', 'baudet', 'bd1pqvcf35', 'be', 'beats', 'bedankt', 'bedrijf', 'bedrijven', 'bedrog', 'beeld', 'beelden', 'beetje', 'begeleid', 'begeleidden', 'begeleiden', 'begeleiding', 'begin', 'begint', 'begonnen', 'begrijp', 'begrijpen', 'begroting', 'begrotingscijfers', 'begrotingstabellen', 'begrotingstekort', 'behandeling', 'behoudt', 'beiaard', 'bekend', 'bekijk', 'bekijken', 'bekrompen', 'bekroond', 'bekwaamheid', 'bel', 'belachelijk', 'belang', 'belangen', 'belangengroepen', 'belangrijk', 'belangrijke', 'belangrijker', 'belangrijkste', 'belastingen', 'belastingfraude', 'belastingparadijzen', 'belastingsparadijzen', 'belastingtsunami', 'beleid', 'beleidsniveau', 'beleven', 'belg', 'belgae', 'belgische', 'belgië', 'beloning', 'beloond', 'beltrame', 'bemanningsleden', 'bemiddeling', 'beminnen', 'ben', 'benieuwd', 'bent', 'benweyts', 'bepaald', 'bepaalde', 'bepaalt', 'bepalen', 'beperking', 'bereid', 'bereidheid', 'bereidt', 'bereikbaar', 'bereikt', 'berg', 'bericht', 'berichten', 'bernard', 'beschaafd', 'beschamend', 'bescheiden', 'beschermen', 'beschermend', 'beschermt', 'beschikbaar', 'beschouwen', 'beschuldigd', 'beschuldiging', 'beslag', 'beslissen', 'beslissing', 'beslist', 'besmettingen', 'bespaard', 'besparen', 'besparing', 'besparingen', 'besparingspolitiek', 'besparingsschade', 'bespreken', 'best', 'bestaan', 'bestaat', 'beste', 'bestel', 'bestrijd', 'bestrijden', 'besturen', 'bestuur', 'bestuurders', 'bestuurlijk', 'bestuurlijke', 'betaalbaar', 'betaalbare', 'betaalmuur', 'betaalt', 'betalen', 'betekenen', 'beter', 'betere', 'beterleefmilieu', 'betogingen', 'betonen', 'betreedt', 'betrekken', 'betrekking', 'better', 'betuigen', 'beu', 'beul', 'bevat', 'bevestig', 'bevestigen', 'bevlogen', 'bevolkingsgroepen', 'bevordert', 'bevriezen', 'bevrijd', 'bevrijding', 'bevrijdingvana', 'beweer', 'beweert', 'bewegingnet', 'bewezen', 'bewijs', 'bewijst', 'bewijzen', 'bewogen', 'bewoners', 'bewoordingen', 'bewuste', 'bezield', 'bezig', 'bezinken', 'bezit', 'bezocht', 'bezoeken', 'bezoekers', 'bezorgdheid', 'bezweek', 'bezwijken', 'bied', 'bieden', 'big', 'bij', 'bijdrage', 'bijkomende', 'bijna', 'bijvoorbeeld', 'bijwoon', 'bijzonder', 'bijzondere', 'billie', 'bilzen', 'bimbombram', 'binnen', 'binnenkort', 'biodiversiteit', 'bir', 'bisschoppen', 'bisschoppenconferentie', 'bisschoppenwil', 'bjornrzoska', 'bjp1wridkq', 'bjvlpnfimq', 'blankenberge', 'blast', 'blij', 'blijf', 'blijft', 'blijkbaar', 'blijkt', 'blijven', 'blind', 'blinde', 'block', 'bloed', 'bloedhonden', 'bloedigste', 'bloeien', 'bloemen', 'blokkeren', 'blunderboek', 'bodem', 'boeiende', 'boek', 'boeken', 'boekenwinkel', 'boerka', 'bol_com', 'bolsonaro', 'bombardeert', 'bommen', 'bondgenoten', 'bondsong', 'bonne', 'boodschap', 'boos', 'boosheid', 'bouboutyassine', 'bouge', 'bourgondiërs', 'bouw', 'bouwen', 'bouzidbouz1', 'boven', 'bovenal', 'bovendien', 'bovengemiddeld', 'bpjtt4ynud', 'br6umbnfnh', 'bracht', 'brand', 'branden', 'brandstichting', 'brandstichtingen', 'brandweermensen', 'bravo', 'brazilianen', 'breaking', 'brecel', 'brede', 'brems', 'brengen', 'brengt', 'brexit', 'brief', 'brieucvandamme', 'brieven', 'bril', 'brinckman', 'britten', 'bron', 'broodje', 'broodnodig', 'bruisend', 'brussel', 'brusselse', 'bruyerefrancois', 'bso', 'bswkd4yjze', 'btw', 'buffers', 'buigen', 'buikgevoel', 'buiten', 'buitenaf', 'buren', 'burgemeester', 'burgerbewegingen', 'burgers', 'burgerwet', 'burke', 'bus', 'buschauffeur', 'business', 'businesscase', 'bussen', 'bv', 'bw0sgrumuh', 'bwullnydbe', 'by', 'bzj99aehrw', 'c7yjaqgudn', 'ca', 'camilla66390579', 'camille', 'campagne', 'can', 'canada', 'canon', 'canvas', 'capteert', 'castro', 'catalaans', 'catalaanse', 'catalanen', 'catalonië', 'cataluña', 'cckvbumxk5', 'cd', 'cdenv', 'cdh', 'cdsgsobhyv', 'ce', 'ceij4tiymp', 'cel', 'celibaat', 'censureren', 'centenboekje', 'centrumrechts', 'ceo', 'change', 'changing', 'charlesmichel', 'charlesurbain', 'check', 'cher', 'cherkaoui', 'chg51xgvt5', 'childfocusnl', 'chinouk', 'chiro', 'choreograaf', 'chrisrock', 'christ', 'christelijke', 'christen', 'christendemocraten', 'christlvdp', 'christophe_s21', 'christos9206', 'christus', 'cijfer', 'cijfers', 'city', 'claesbart', 'claimt', 'claudius', 'clijsterskim', 'climate', 'clochen', 'club', 'co', 'co2', 'collega', 'colombiaans', 'coloribus', 'coma', 'comité', 'comme', 'commentaar', 'commissie', 'communicatie', 'communicatietechnologie', 'communiceer', 'community', 'compassion', 'competenties', 'compleet', 'complexen', 'con', 'conclusie', 'concrete', 'concurrentie', 'conditions', 'confronterend', 'congrats', 'congratulations', 'conner', 'conner_rousseau', 'conscienceplein', 'consensus', 'consequent', 'conservatisme', 'constructief', 'constructieve', 'context', 'continent', 'contrast', 'controle', 'controleert', 'conversatie', 'coolste', 'cop25', 'corona', 'coronacoup', 'coronacrisis', 'coronamonster', 'coronavirus', 'correct', 'court', 'covid19', 'cpool93hss', 'creatieve', 'crevits', 'creëer', 'crhac8ykng', 'crimineel', 'criminele', 'criminelen', 'crisis', 'crisistijd', 'crl8xbvyie', 'crochlit', 'cross', 'cruncher', 'csk6lxjqvm', 'ctmee74e9a', 'culturele', 'cultuur', 'cultuursector', 'cut', 'cynthia', 'cz2hvlysbm', 'cz7rpp8rgi', 'czp7tdhxno', 'd0hpjayf6v', 'd0y2gapz0c', 'd4hc0f5w5q', 'd76ugvqqkq', 'd7jojzgzip', 'd8p0cwlipv', 'da', 'daadkracht', 'daadkrachtig', 'daanschellemans', 'daar', 'daarbuiten', 'daardoor', 'daarin', 'daarna', 'daarom', 'daarover', 'daarvan', 'daarvoor', 'dabflvgsc4', 'dacht', 'daden', 'daders', 'dag', 'dagelijks', 'dagen', 'daklozen', 'dalen', 'dalende', 'dalle_benjamin', 'dam', 'dame', 'dan', 'dank', 'danken', 'dankje', 'dankjewel', 'dankzij', 'dansende', 'das', 'dat', 'daviddavismp', 'day', 'db5bjghl76', 'dcuzdbe3de', 'dday75', 'de', 'de_nva', 'de_spetter_98', 'deafspraaktv', 'deal', 'debackerphil', 'debat', 'decaluwe_m', 'deden', 'deed', 'deel', 'deelnemers', 'deelneming', 'deels', 'defensie', 'deftig', 'degelijk', 'degene', 'degoutant', 'dekamerbe', 'delen', 'dementeert', 'dementie', 'demeyjoris', 'demir', 'democraat', 'democrat', 'democratie', 'democratisch', 'democratische', 'demorgen', 'denbokkerijder', 'denemarken', 'denk', 'denken', 'denkers', 'deportatie', 'der', 'derde', 'dertiger', 'des', 'desalniettemin', 'desgevallend', 'designer', 'destandaard', 'destexhe', 'destrangers', 'destructief', 'detoekomstvansapiens', 'deugd', 'deutschen', 'devliegereeddy', 'dewevernollet', 'deze', 'dezelfde', 'dezer', 'dezondag', 'dialoog', 'dichterbij', 'dictaat', 'dictatuur', 'die', 'diegenen', 'dienen', 'dienstverlening', 'dient', 'diep', 'diepe', 'diepmenselijke', 'diepste', 'dierbaar', 'dierbare', 'dieren', 'difficult', 'difícil', 'digitaal', 'digitalisering', 'dii', 'dikke', 'dikker', 'dimitri', 'dinamiek', 'diner', 'dingen', 'diploma', 'directeur', 'dirk', 'discreet', 'discussie', 'disputandum', 'distancing', 'distelmans', 'distributie', 'dit', 'divers', 'dividenden', 'diálogo', 'dk9lrljt1f', 'dleoxf6dll', 'dlm1vhuuyz', 'do', 'dodelijk', 'dodelijke', 'doe', 'doel', 'doelwit', 'doemscenario', 'doen', 'doet', 'dokters', 'dolfie85', 'dom', 'domeinscholen', 'dominantie', 'dominieksneppe', 'donderdag', 'done', 'donesvisa', 'dood', 'door', 'doorbraak', 'doorbraakbe', 'doordrukken', 'doorgaan', 'doorgedreven', 'doorgeduwd', 'doorgevoerd', 'doorheen', 'doorlopende', 'doorwerken', 'doorzetten', 'dossier', 'dossierkennis', 'dossin', 'doxxing', 'draag', 'draagt', 'draaien', 'draaiend', 'draaiende', 'draait', 'drama', 'dramatisch', 'dreiging', 'drempels', 'dringen', 'dringt', 'drinks', 'drugs', 'drugsdealers', 'drugshandel', 'drugsindustrie', 'drugsmaffia', 'druk', 'druppelt', 'dsavond', 'dscuoyckjn', 'dtv', 'duffy', 'duidelijk', 'duidelijkheid', 'duik', 'duitsland', 'duizenden', 'duizendpoot', 'duizendste', 'dupe', 'duppen', 'duqbffxlaq', 'dure', 'durf', 'durft', 'durven', 'dus', 'duurzame', 'dvanlangenhove', 'dweept', 'dwingen', 'dwv', 'dynamiek', 'dzox43xhro', 'dát', 'dé', 'e1hoaj4rs5', 'e8mey6owlh', 'e9nmwlgbtr', 'easier', 'echt', 'echte', 'ecolo', 'ecologisch', 'ecologisten', 'economie', 'economisch', 'economische', 'edhnumwlh7', 'edmund', 'educatieve', 'eem8injdev', 'een', 'eenheidsworst', 'eens', 'eenvoudig', 'eenzame', 'eer', 'eerbetoon', 'eerbied', 'eerder', 'eerlijk', 'eerlijke', 'eerst', 'eerste', 'eeuw', 'effecten', 'effectief', 'egbertlachaert', 'ego', 'egypte', 'eigen', 'eigendom', 'eigenlijk', 'eigentijdse', 'eilish', 'ein', 'einde', 'eindelijk', 'eindigt', 'eindtermen', 'eisen', 'eist', 'ejtwpo2pc4', 'ek', 'ekik', 'el', 'elao5vxixb', 'elders', 'elección', 'elektriciteit', 'eliodirupo', 'elite', 'elk', 'elkaar', 'elkaars', 'elke', 'elkevdbrandt', 'elleboog', 'elrond39621109', 'else4weekblad', 'em', 'emancipatie', 'emissiezone', 'emotionele', 'empowerment', 'en', 'enavant', 'ene', 'energiefactuur', 'enerzijds', 'engagement', 'engageren', 'enhxlcfspp', 'enige', 'enim', 'enkel', 'enkele', 'enkelen', 'enorm', 'enpoj3noax', 'enz', 'eoswx4rak0', 'ep4lh4v6hh', 'er', 'eraan', 'erbij', 'ere', 'eren', 'erfschuld', 'erg', 'erger', 'eric', 'ericvaes', 'erin', 'erkend', 'erkenning', 'erkent', 'ernaar', 'ernstig', 'ernstige', 'eroajifw4v', 'erover', 'eruit', 'eruitziet', 'ervan', 'ervaren', 'ervaring', 'ervoor', 'es', 'eskensaskia', 'espen', 'essentie', 'essentieel', 'est', 'et', 'eten', 'ethische', 'etienne', 'etienneboghmans', 'etteren', 'eu', 'euqojba4gn', 'euro', 'europa', 'europeaan', 'europees', 'europese', 'euthanasie', 'eva', 'evaluatie', 'even', 'evenmin', 'evenwichtige', 'ever', 'evolutie', 'evrm', 'ewciudyewu', 'ewjj9rbnw1', 'exact', 'excuses', 'excuus', 'exemplaren', 'exemplarisch', 'experten', 'expertise', 'experts', 'explosief', 'extra', 'extreem', 'extremisten', 'ey', 'facere', 'fact', 'factcheck', 'facts', 'factscruncher', 'facturen', 'fair', 'fairfinvzw', 'fake', 'faken', 'fakkel', 'falend', 'familie', 'familiedag', 'fantastisch', 'fantastische', 'fatsoenlijk', 'fausse', 'faxle1oioo', 'fbbjaac60b', 'fbhtgcg9eo', 'fc', 'fdgvtcbhsn', 'februari', 'federaal', 'federale', 'feest', 'feiten', 'felicidades', 'feminicide', 'feminizepolitics', 'festival', 'festivals', 'fexwgwaivw', 'fgoec8gvwq', 'fier', 'fiere', 'fietsbrug', 'figuren', 'figuurlijk', 'fijn', 'fijne', 'fik', 'files', 'filip_bru', 'filips', 'filmpje', 'filter', 'financieel', 'financiële', 'finland', 'fiscale', 'fixatie', 'flcq53at6o', 'focus', 'focust', 'fonskedespons', 'for', 'formatie', 'formeel', 'fors', 'fortissimi', 'forward', 'fossiel', 'fouratgent', 'fout', 'foute', 'fouten', 'foutief', 'fractie', 'fractieleiders', 'fracties', 'francisco', 'franckentheo', 'frank_moreels', 'franse', 'franstalig', 'franstalige', 'franstaligen', 'freecatalanpoliticalprisoners', 'freilich', 'freuen', 'freyabos', 'friend', 'frisse', 'from', 'front', 'fskxlus6h8', 'ft', 'fu1bm90byw', 'fucked', 'fuerte', 'functionerende', 'fundament', 'furie', 'fvdpitte', 'fvdv11', 'fvransbe', 'fyexvlqpiv', 'fyqk25fmce', 'fysiek', 'félicitations', 'für', 'g66qpkmbhn', 'g8so3jzbdg', 'ga', 'gaan', 'gaat', 'gade', 'gaf', 'gah', 'gameofthrones', 'ganar', 'gang', 'gap', 'garage', 'garant', 'garantía', 'gas', 'gasontploffing', 'gaten', 'gbgpmiazq3', 'gdkrt9q1fw', 'gdp', 'geantwoord', 'gebeurd', 'gebeuren', 'gebeurt', 'gebeurtenissen', 'geboorte', 'gebore', 'gebouw', 'gebracht', 'gebrek', 'gebruiken', 'gecombineerd', 'gedaald', 'gedaan', 'gedacht', 'gedachten', 'gedeeld', 'gedeelde', 'gedegouteerd', 'gedenkboodschap', 'gedenken', 'gedicht', 'gedogen', 'gedoogbeleid', 'gedoopt', 'gedraagt', 'gedrag', 'gedragen', 'geduurd', 'geef', 'geeft', 'geel', 'geen', 'geenbusinessasusual', 'geeneeltoponzeziel', 'geertbourgeois', 'geerthoste', 'geertnoels', 'geest', 'gefaald', 'gefeliciteerd', 'geglobaliseerde', 'gegraven', 'gehaald', 'gehad', 'geheel', 'geheimzinnig', 'gehoord', 'gehouden', 'geklungel', 'gekomen', 'gekozen', 'gekregen', 'gelaten', 'geld', 'geldig', 'geldstromen', 'geldt', 'geleden', 'geleerd', 'geliefden', 'gelijk', 'gelijke', 'gelijkheid', 'gelogen', 'geloof', 'gelooft', 'geloven', 'gelovig', 'gelovigen', 'geluk', 'gelukkig', 'gelukkige', 'gelukt', 'gemaakt', 'gemakkelijk', 'gemeen', 'gemeenschap', 'gemist', 'gemistekans', 'generaties', 'geniet', 'genieten', 'genoeg', 'genomineerd', 'genossen', 'genossinnen', 'genoten', 'gent', 'georganiseerd', 'georganiseerde', 'gepast', 'gepolariseerd', 'gerdvdb1', 'gerecht', 'gered', 'geregeerd', 'gericht', 'gerichte', 'gerust', 'geschiedenis', 'geschokt', 'geschreven', 'gesloten', 'gesprek', 'gestaan', 'gestegen', 'gesteld', 'gesticht', 'gestook', 'gestraft', 'gestreden', 'gestuurd', 'getrasht', 'getraumatiseerde', 'getroffen', 'getrol', 'getshitdone', 'getuigenissen', 'gevaar', 'gevaarlijk', 'gevaarlijke', 'gevaarlijker', 'geval', 'gevangenen', 'gevat', 'geven', 'gevoel', 'gevolg', 'gevolgd', 'gevolgen', 'gevraagd', 'gevreesd', 'gewacht', 'gewapend', 'geweest', 'geweld', 'geweldig', 'geweldige', 'geweldloze', 'gewenst', 'gewerkt', 'geweten', 'gewezen', 'gewone', 'gewoon', 'geworden', 'gezegd', 'gezicht', 'gezien', 'gezinnen', 'gezond', 'gezondere', 'gezondheid', 'gezondheidscrisis', 'gezondheidszorg', 'gezwegen', 'geïnvesteerd', 'gfbw34wjcn', 'ghm4qz152w', 'gij', 'gillesdm92', 'gilliot', 'girlsgirlsgirls', 'gisteren', 'gisterenanavond', 'gkspnns3nb', 'glasgow', 'glashelder', 'glbouchez', 'globaal', 'global', 'glowupchallenge', 'glückwünsch', 'gmeh1rbrlv', 'gmvmsnp1dv', 'gn', 'go', 'go7gkhdkrw', 'gobierno', 'god', 'godsdienst', 'goe', 'goed', 'goede', 'goedeleliekens', 'goedgekeurd', 'goedkoper', 'goeie', 'goeiemorgen', 'gold', 'good', 'gooien', 'gorpluc', 'gou', 'gqnhegvmxs', 'gra4z2vlio', 'graad', 'graag', 'grandpafinn', 'grappige', 'green', 'greendeal', 'grenscontroles', 'grenzeloos', 'grenzen', 'grieken', 'grijpen', 'grijs', 'grijze', 'groei', 'groeien', 'groeiproject', 'groen', 'groenduffel', 'groene', 'groenen', 'groener', 'groeten', 'grond', 'grondhouding', 'grondig', 'grondwettelijk', 'groot', 'grootste', 'grootstedelijke', 'grote', 'groter', 'grove', 'grungplöts', 'gruwel', 'gruwelen', 'gruwelijk', 'gryvjn6fcy', 'gt', 'guerre', 'guoweimo', 'gustibus', 'gva', 'gwendolyn', 'géén', 'h3qmjwtb5d', 'h7lat7k7h6', 'h8pklcyefo', 'h8w5nkdpwf', 'haalt', 'haar', 'haat', 'haataanvallen', 'haatspraak', 'had', 'hadden', 'hakken', 'halen', 'halfrond', 'hallo', 'hallooooooooww', 'hallucinant', 'halveert', 'hananello', 'hanau', 'hanaushooting', 'hand', 'handelsbalans', 'handelsmissie', 'handen', 'handhaving', 'handicap', 'handje', 'hangt', 'hans_maes', 'happen', 'hararinewsweek', 'hard', 'harde', 'hardnekkig', 'harrymelis3', 'hart', 'harte', 'hartverwarmend', 'harvard', 'has', 'hasselt', 'hate', 'haven', 'hct2zg61hc', 'headlines', 'health', 'hear', 'heb', 'hebben', 'hebt', 'hechte', 'hedendaagse', 'heeft', 'heel', 'heerlijk', 'heerlijke', 'heersende', 'heet', 'hefbomen', 'heididepauw', 'heilig', 'helaas', 'helden', 'helder', 'heldere', 'hele', 'helemaal', 'help', 'helpen', 'helpt', 'helsen', 'hem', 'hen', 'hendrikbogaert', 'herbebossen', 'herbekijk', 'herberg', 'herdenkingsweekend', 'herhaalt', 'herinnering', 'herinneringen', 'herkenbaar', 'herlees', 'hermano', 'herontdekken', 'heropleving', 'herstelbeleid', 'herverdelen', 'herverdelende', 'herverdeling', 'hervormen', 'hervormingen', 'herwig', 'herzlichen', 'het', 'hetkananders', 'hetkanwel', 'hetzelfde', 'hey', 'heyse', 'hftoyh0j12', 'hielp', 'hier', 'hierbij', 'hierin', 'hiernamaals', 'hierover', 'hiertegen', 'hij', 'hijfaecmee', 'hilarisch', 'hilde', 'historische', 'hitte', 'hkakkjisn2', 'hln_be', 'hm9oxhxwv9', 'hoe', 'hoeft', 'hoewel', 'hoezo', 'hof', 'hogere', 'holle', 'holt', 'homans', 'hondenhaar', 'honderden', 'honderdtwintig', 'hongersnood', 'hoofd', 'hoofdstad', 'hoog', 'hoogste', 'hoogtij', 'hoop', 'hoopte', 'hoor', 'hoort', 'hopelijk', 'hopen', 'horeca', 'horen', 'horum', 'hot', 'hou', 'houden', 'houding', 'houdt', 'houtje', 'hoxky1d9ag', 'hpwlpge2ub', 'hqmcgpq0sz', 'hrvkwxcdgr', 'https', 'hugodecker', 'hui', 'huidig', 'huidige', 'huis', 'huizen', 'hulde', 'hulp', 'hulpdiensten', 'hulpverleners', 'hult', 'humanitaire', 'humo', 'humor', 'hun', 'huts', 'hvwilderode', 'hxsvcmuweo', 'hypocriet', 'hè', 'i159ipuln6', 'i1ca1sxkho', 'i1exytfrzk', 'i2tyfqyzwt', 'i2vf6vfbqb', 'iconische', 'icoon', 'id', 'idd', 'idealen', 'idealist', 'ideeën', 'identiteit', 'idée', 'ieder', 'iedere', 'iedereen', 'iemand', 'iets', 'ieurw33fjb', 'ig', 'ii', 'ijsberen', 'ijver', 'ijzersterke', 'ik', 'ikramekastit', 'il', 'illegaal', 'illegale', 'illegalen', 'illustratief', 'imadeannouri', 'immigratiebeleid', 'immoraliteit', 'impact', 'in', 'inacceptable', 'incluis', 'inclusief', 'inclusieve', 'incorrecte', 'increase', 'increasing', 'indelen', 'independent', 'inderdaad', 'indienen', 'individuele', 'indrukwekkend', 'info', 'informateur', 'informateurs', 'informatie', 'informatiegesprekken', 'informatieopdracht', 'informeer', 'informeren', 'informez', 'ingediend', 'ingehakt', 'ingesteldheid', 'ingestemd', 'ingetogen', 'ingetrokken', 'ingezet', 'ingrediënten', 'ingridpira1', 'ingrijpen', 'ingrijpt', 'inhoud', 'inhoudelijk', 'initiatief', 'iniuriam', 'inkomsten', 'inleveren', 'innige', 'innovatie', 'inspanningen', 'instagram', 'insteek', 'instellingen', 'instond', 'integendeel', 'intel', 'intelligentie', 'interesse', 'internationaal', 'internationale', 'internationaledagthuistaal', 'internationalevrouwendag', 'internationalwomensday', 'interne', 'interpellatie', 'interpretatie', 'interview', 'interviews', 'intimidatie', 'intriest', 'invest', 'investeer', 'investeert', 'investeren', 'investering', 'investeringen', 'investeringsbank', 'investidura', 'investment', 'invullen', 'inwendig', 'inwijking', 'inzet', 'inzetten', 'inzien', 'ipruk76pcn', 'is', 'isaisymens', 'isolement', 'israël', 'it', 'italbers', 'italië', 'iten70vja4', 'itsinourhands', 'itv', 'ivemarx', 'izumjz0sjs', 'j6ah5rhg5q', 'j6kat9cisj', 'j_croughs', 'ja', 'jaar', 'jaarlijkse', 'jacxt7fr9a', 'jahetkan', 'jamais', 'jambon', 'jambon1', 'jammer', 'jan', 'jan_bertels', 'janjambon', 'jaramillo', 'jaren', 'jarenlang', 'jarenlange', 'jdemeulemeester', 'jdespiegelaere', 'je', 'jeanlagaune', 'jefmellaerts', 'jeh', 'jeugdzorg', 'jezelf', 'jezus', 'jfabbeloos', 'jh0tflu6bk', 'jij', 'jl1jzh6tqv', 'jmqxfjzaq7', 'joachimcoens', 'job', 'jobcreatie', 'jobs', 'joeijoeijoel', 'johncrombez', 'johny', 'join', 'jonge', 'jongeren', 'jonggroen', 'jongvld', 'joods', 'joodse', 'jordi', 'joscarwilde', 'josdhaese', 'jou', 'journalist', 'journalisten', 'jozef', 'jpdgfhmcrx', 'jph6nigmcm', 'jqbft6avhv', 'ju7ak1vycl', 'juist', 'juiste', 'jujleh7lfl', 'juleshaex', 'julie', 'jullie', 'junioren', 'junqueras', 'juriste', 'justicia', 'justitie', 'jv0zfmjv3q', 'jvanovertveldt', 'jx1m8ra4tq', 'k27t00xysb', 'k6khligjsy', 'k7xkxq9l4m', 'k9hxhb9nos', 'kaalslag', 'kader', 'kaderen', 'kaltgestellt', 'kamer', 'kampioen', 'kampioenen', 'kan', 'kanaal', 'kandidaat', 'kandidaten', 'kankeropsporing', 'kans', 'kansen', 'kant', 'kap', 'kapot', 'kappen', 'kar', 'karakter', 'kathedraal', 'katholiek', 'katholieke', 'kazerne', 'kbimr7jyoj', 'kchaffart', 'keadqluivm', 'keer', 'keihard', 'kennen', 'kenners', 'kennis', 'kent', 'kepm6uun59', 'keren', 'kerk', 'kerntaken', 'kernuitstap', 'kerstmarkt', 'kersverse', 'ketjes', 'keuken', 'keurt', 'keuze', 'keuzes', 'keyserlei', 'kgvhrdleok', 'kherbache', 'kids', 'kies', 'kies19', 'kiest', 'kiezen', 'kiezer', 'kijk', 'kijken', 'kil', 'kim', 'kimback', 'kind', 'kinderarmoede', 'kinderbijslag', 'kinderen', 'kindergeld', 'kindermisbruik', 'kippen', 'kiw11zptgp', 'klaar', 'klank', 'klap', 'klappen', 'klararadio', 'klasse', 'klavertjevier', 'kledij', 'kleine', 'kleiner', 'klembrs', 'kleur', 'kleurt', 'klik', 'kliklijnen', 'klimaat', 'klimaatactie', 'klimaatambitie', 'klimaatbeleid', 'klimaatopwarming', 'klimaatplan', 'klimaattop', 'klimaatverandering', 'klimaatveranderingen', 'klimaatvoorstellen', 'klinkt', 'kloof', 'kloppen', 'klopt', 'knack', 'knap', 'knipoog', 'knokken', 'know', 'knuffel', 'koek', 'koel', 'koen_geens1', 'kom', 'komaan', 'komen', 'komende', 'komt', 'kon', 'koninklijke', 'kop', 'kopen', 'koplampen', 'koppelen', 'koppeling', 'kordaat', 'korps', 'kost', 'kotsen', 'koud', 'kqmjkuddit', 'kracht', 'krachten', 'krachtig', 'krans', 'kregen', 'krijg', 'krijgen', 'krijgt', 'krimpen', 'kris', 'kristofcalvo', 'kritiek', 'kritische', 'krls', 'kt4z0kc5cv', 'ktommel', 'ku7ei6w2ld', 'kunnen', 'kunstenaar', 'kunstmatige', 'kunt', 'kurt', 'kurtdeketelaere', 'kurtvanbraband', 'kuyykkc1en', 'kwaad', 'kwaliteit', 'kwaliteitskrant', 'kwam', 'kwestie', 'kwetsbaarheid', 'kwetsbaren', 'kämpfen', 'l1esxrkyxe', 'l1obuvbvro', 'la', 'laag', 'laagjes', 'laan', 'laat', 'laatste', 'lachen', 'lady', 'laf', 'laffe', 'lafhartig', 'lage', 'laksheid', 'land', 'landen', 'landmark', 'lang', 'lange', 'langer', 'langere', 'langs', 'langverwachte', 'lanka', 'laruelle', 'last', 'lastercampagne', 'lastig', 'lat', 'late', 'laten', 'later', 'laudatio', 'lbvpqjogt3', 'le', 'lectuur', 'leden', 'ledencongres', 'leefbaarheidsproject', 'leeg', 'leeghalen', 'leen04907137', 'leer', 'leerde', 'leerkrachten', 'leerlingen', 'leerzaam', 'lees', 'leest', 'leestip', 'leeuw', 'lefeber_v', 'legalisering', 'legde', 'lege', 'leger', 'leggen', 'legislatuur', 'legitieme', 'legt', 'leiden', 'leiders', 'leiding', 'lekker', 'leopold', 'letterlijk', 'leugens', 'leuven', 'leven', 'levend', 'levens', 'levenseinde', 'levensverwachting', 'lever', 'leveren', 'lez', 'lezen', 'lezenswaardig', 'lfihi1b3mx', 'lgph43twnr', 'liberaal', 'liberale', 'liberalefamilie', 'liberalen', 'liberalisme', 'libertad', 'licht', 'lid', 'liefdadigheid', 'liefde', 'liefhebben', 'liege', 'liesbethhomans', 'liescorneillie', 'liever', 'life', 'light', 'ligt', 'lijn', 'lijnen', 'lijst', 'lijststemmen', 'like', 'likes', 'likkebaarden', 'limburgse', 'links', 'linkse', 'liquideren', 'little', 'ljnlj2jigu', 'lkrobea', 'll4kgomued', 'lntlz6ctdl', 'lockdown', 'locomotief', 'loge', 'logisch', 'lohwvzjddt', 'lokaal', 'lokale', 'londense', 'lonely', 'lonen', 'looking', 'loon', 'loonsvermindering', 'loopt', 'lopende', 'los', 'louis_ide', 'lououche', 'love', 'lovehasnolabels', 'lqq2fwecnb', 'lscrkx2pzm', 'luca', 'lucht', 'lucjanssenluc', 'luck', 'lucky', 'ludosannen', 'ludwigbollaerts', 'luik', 'luister', 'luisteren', 'lundi', 'lutgard', 'lwk5h08iw4', 'lxt9ztauo2', 'líder', 'm7yeybtdkf', 'maak', 'maakt', 'maakte', 'maal', 'maand', 'maanden', 'maar', 'maart', 'maat', 'maatregelen', 'maatschappelijke', 'macht', 'machten', 'machtige', 'machtsinstituut', 'machtsstructuren', 'made', 'madrid', 'maffia', 'mag', 'magazine', 'maggie', 'maggie_deblock', 'mail', 'make', 'makelij', 'maken', 'mama', 'man', 'manager', 'mandaat', 'mandato', 'manier', 'manifeste', 'mannen', 'mannenclub', 'many', 'maquettes', 'marce', 'marclesauvage1', 'marginalen', 'margot', 'maria', 'marinsanna', 'markt', 'mars', 'martinefransse1', 'martinetang', 'maskers', 'massaal', 'materiaal', 'matthias', 'max', 'maximumfactuur', 'maximveys', 'may', 'maya', 'mazzel', 'mbl7ioq4l6', 'me', 'mede', 'medeleven', 'medewerker', 'medewerkers', 'medewerkster', 'media', 'medicatie', 'mee', 'meer', 'meerdere', 'meerderheid', 'meertaligheid', 'meest', 'meestal', 'meet', 'meeting', 'mehr', 'mei', 'meisje', 'meisjes', 'meld', 'melkkoe', 'men', 'meneer', 'mening', 'meningen', 'meningsuiting', 'mens', 'menselijk', 'menselijke', 'mensen', 'mensenhandelaars', 'mensensmokkel', 'mentalehygiene', 'merci', 'merkel', 'meryamekitir', 'met', 'meteen', 'meter', 'mevrouw', 'meyremalmaci', 'mezelf', 'meêr', 'mgkm7ixgxd', 'michael', 'michaelgove', 'michaël', 'michel', 'middel', 'middelen', 'midden', 'middenklasse', 'middenveld', 'mieke_marieke_', 'miekeschauv', 'miesdgrt', 'migratie', 'migratiebeleid', 'migratieregels', 'mij', 'mijn', 'mike', 'milachka2001', 'milieubewegingen', 'militairen', 'miljard', 'miljarden', 'miljardenwinsten', 'miljoen', 'minder', 'minderheidsregering', 'mindset', 'minimaliseert', 'minimum', 'minister', 'minuut', 'mirakel', 'misbruiken', 'misbruikt', 'misdaad', 'misschien', 'misslonewolf99', 'mist', 'mnrdixz7j1', 'mo', 'mo74jvb4is', 'mobieler', 'mobile', 'mobiliteits', 'mocht', 'modelstudenten', 'moderado', 'moe', 'moed', 'moeder', 'moederdag', 'moedig', 'moeien', 'moeilijk', 'moeilijke', 'moeilijker', 'moeilijkheden', 'moeite', 'moet', 'moeten', 'mogelijk', 'mogelijke', 'mogen', 'mohamedouaamari', 'moment', 'mond', 'monddood', 'mondiaalnieuws', 'mondig', 'mondmaskers', 'moniqueadriaan1', 'monsanto', 'monsantopapers', 'monster', 'mooi', 'mooie', 'mooier', 'mooiste', 'moordenaars', 'more', 'morgen', 'moskou', 'moslims', 'motie', 'motion', 'motor', 'motto', 'mouwen', 'moving', 'mp', 'mr', 'mr_officiel', 'mrcachepot', 'mrfy5hehqd', 'mrw72ywfns', 'mss', 'much', 'multinationals', 'mutualiteit', 'mutualiteiten', 'muwoqdhg5n', 'mverbergt', 'mxt8bbseeq', 'my', 'mzoz3edpj4', 'mét', 'méér', 'n2dhzniegr', 'n6qjkdmhko', 'na', 'naam', 'naar', 'naast', 'naaste', 'naasten', 'naastenliefde', 'nabestaanden', 'nachhaltiges', 'nacht', 'nachtmerrie', 'nadenken', 'nagel', 'nalatigheden', 'nalnkylr8s', 'nam', 'namens', 'nathanvcamp', 'natie', 'naties', 'nationalist', 'nationalistische', 'natuurlijk', 'nauwelijks', 'nauwer', 'nav', 'navgs8e5e0', 'navolging', 'ne', 'nederig', 'nederland', 'nederlands', 'nederlandse', 'nee', 'need', 'neemt', 'neen', 'neergelegd', 'negatief', 'negeert', 'nek', 'nemen', 'nergens', 'nestelen', 'net', 'netjes', 'netvlies', 'neues', 'neuezeit', 'neus', 'neutraal', 'neverforget', 'news', 'newsweekbelgium', 'next', 'nfbhwj6qeu', 'nfdqb2xscw', 'ng', 'ngi4a3kszf', 'nicolasbouteca', 'niemand', 'nies', 'niet', 'niets', 'nieuw', 'nieuwe', 'nieuwjaar', 'nieuwjaarsboodschap', 'nieuwjaarsreceptie', 'nieuws', 'nieuwste', 'niks', 'ninaderwael', 'niveau', 'nixon', 'njhzmzts48', 'nlbwou819j', 'nnnl4lzqju', 'no', 'nobel', 'noch', 'nodig', 'noelections', 'noemt', 'nog', 'non', 'nonkelpier', 'nood', 'noodkreet', 'noodregering', 'noodzakelijk', 'nooit', 'normaal', 'normandië', 'nosesmoopn', 'not', 'notie', 'nous', 'nowabofm', 'nr', 'nrc_boeken', 'nt', 'nu', 'nuestro', 'nuevo', 'nultolerantie', 'nut', 'nuttige', 'nws', 'nys', 'nytimes', 'o3y4iyr0rx', 'o8h5psdwdf', 'oa6xn2ek4b', 'oami6siomx', 'oasyy3rtw0', 'obd49lg3ef', 'obv', 'od4jkupatb', 'ode', 'of', 'offers', 'officieel', 'officiële', 'officiëlere', 'ofwel', 'ogen', 'oil', 'ok', 'olijke', 'olzcfjcpka', 'om', 'omarmen', 'omdat', 'omg', 'omgaat', 'omgekeerd', 'omnium', 'omroep', 'omstandigheden', 'omzetten', 'onaanvaardbaar', 'onafhankelijke', 'onbegrijpelijk', 'onbeperkte', 'onbetaalbaar', 'onbruikbaar', 'once', 'ondanks', 'onder', 'onderbetaald', 'onderhandelaars', 'onderhandelingen', 'onderhandelingstafel', 'onderhoud', 'onderneemt', 'ondernemen', 'ondernemers', 'onderscheid', 'onderscheiding', 'ondersteuning', 'ondertussen', 'ondervragen', 'onderwijs', 'onderwijslijn', 'onderwijsniveau', 'onderzoek', 'onderzoeken', 'onderzoekscommissie', 'ondoordachte', 'oneens', 'oneindige', 'ongeacht', 'ongebonden', 'ongefundeerde', 'ongegeneerd', 'ongelofelijk', 'ongelooflijk', 'ongelooflijke', 'ongemakkelijk', 'ongemakkelijke', 'ongenoegen', 'ongeoorloofde', 'ongerust', 'ongerustheid', 'ongetwijfeld', 'ongevallen', 'onhaalbaar', 'onheilsdenken', 'onkelinx', 'onkunde', 'online', 'only', 'onnodig', 'onnodige', 'onontgonnen', 'onoplosbare', 'ons', 'ontdekkingsjaar', 'ontken', 'ontkennen', 'ontkent', 'ontketen', 'ontmenselijken', 'ontmenselijking', 'ontmoedigen', 'ontmoeting', 'ontploffing', 'ontroerend', 'ontslagen', 'ontvangt', 'ontving', 'ontvoogding', 'ontwijking', 'ontwrichtend', 'ontzag', 'onuitlegbaar', 'onverantwoord', 'onverschilligheid', 'onverwacht', 'onvoldoende', 'onvrede', 'onwettig', 'onwil', 'onze', 'onzin', 'oog', 'ooit', 'ook', 'oordeel', 'oordeelt', 'oorlog', 'oorlogstaal', 'oosterweel', 'op', 'opbod', 'opdraaien', 'opdracht', 'opdrachthouder', 'open', 'openbaar', 'openbare', 'openheid', 'openingscollege', 'openvld', 'opfokken', 'opgehitst', 'opgepompt', 'opgeruimd', 'opgeschrikt', 'opgevangen', 'opgevoed', 'opinie', 'opiniestuk', 'opkomen', 'opkomst', 'oplopen', 'oplossen', 'oplossing', 'oplossingen', 'oplossingsgericht', 'opluchting', 'opmerking', 'opname', 'opnieuw', 'opperwezen', 'opponent', 'oppositie', 'oprechte', 'oproep', 'opschuiven', 'optie', 'optimisme', 'optimistisch', 'opvallend', 'opvang', 'opvolgers', 'opzetten', 'opzij', 'organisatie', 'organiseer', 'organiseert', 'organiseren', 'oriol', 'orsrstbztq', 'ot3as4yqpu', 'otra', 'oud', 'oudejaarsnacht', 'ouder', 'ouderen', 'ouderlijke', 'ouders', 'oudheid', 'our', 'out', 'ouzovvcv78', 'ovatie', 'over', 'overal', 'overduidelijk', 'overeind', 'overheid', 'overheidsuitgaven', 'overigens', 'overkapping', 'overkomen', 'overleden', 'overleg', 'overlijden', 'overstegen', 'overtuigd', 'overtuigen', 'overtuiging', 'overtveld', 'overvloede', 'ovidius', 'ovvjhhtepj', 'ow2xk8y5ip', 'owzfqzdynt', 'oyxprkgxpm', 'ozez6gnbfp', 'p0qfkyy08m', 'p2cvnfvany', 'p4bpjgmqdi', 'p4cescotva', 'p8ra6xv82s', 'p_vandeloo', 'paars', 'paasviering', 'pailpszzyv', 'pak', 'pakken', 'pakt', 'paleis', 'palliatief', 'palliatieve', 'panamarenko', 'pantservoertuigen', 'pantsonfire', 'papier', 'para', 'parcours', 'pardon', 'parijs', 'parlement', 'parlementsleden', 'parlementslid', 'parlementsvoorzitters', 'part', 'partido', 'partij', 'partijbestuur', 'partijbureau', 'partijdemocratie', 'partijen', 'partijfinanciering', 'partijpolitiek', 'partners', 'pas', 'pasarán', 'passage', 'passief', 'past', 'patiënt', 'patrickdewael', 'paul', 'paulcobbaert', 'pauliencl', 'paulmagnette', 'pduu3ogewv', 'peaq8vr9g2', 'pedrosanchezpresidente', 'peilingresultaat', 'pensioen', 'pensioenen', 'pensioenleeftijd', 'pensioenspook', 'pensée', 'per', 'perfect', 'perfecte', 'periode', 'persgroep', 'persmededeling', 'personeel', 'personen', 'pes_pse', 'petedem', 'peter_mertens', 'peterderoover1', 'petitie', 'pexg4o1nji', 'phenomenal', 'philip', 'phroose', 'phtsv4igwn', 'pieter_hd', 'pieterbauwens', 'pietervbo', 'piste', 'pittige', 'pittsburgh', 'pj8yhpbf1f', 'pjhuh1gyi2', 'plaats', 'planeet', 'planet', 'pleegkinderen', 'pleegouders', 'pleidooi', 'pleit', 'pleiten', 'plenair', 'plenaire', 'plezant', 'plicht', 'plichten', 'ploeg', 'plots', 'pluim', 'plukken', 'plus', 'pm0ulzvrls', 'pml44fpzps', 'podcast', 'poetshulp', 'point', 'polarisering', 'polen', 'politici', 'politicus', 'politie', 'politieagent', 'politiek', 'politieke', 'politiekecoup', 'politiekorps', 'politiemensen', 'política', 'pooiers', 'poorten', 'popelen', 'por', 'positief', 'positieve', 'post', 'postbodes', 'postbus24', 'postjes', 'posts', 'pourbusverhelst', 'pover', 'pp', 'pq6doqa6dc', 'praat', 'prachtig', 'prachtige', 'praestat', 'pragmatische', 'praten', 'premier', 'president', 'prestatie', 'prevotmaxime', 'pride', 'prijs', 'prikkelend', 'prille', 'prima', 'prime', 'primeert', 'principe', 'prioriteit', 'prioriteiten', 'private', 'privé', 'privéleven', 'probeer', 'probeert', 'proberen', 'probleem', 'problematisch', 'problemen', 'problème', 'procedure', 'professionalisme', 'professioneel', 'professionele', 'professor', 'proficiat', 'profiel', 'profileringsdrang', 'programma', 'progresista', 'projecten', 'promoot', 'propaganda', 'proper', 'prostitutees', 'prplzr', 'prutswerk', 'ps', 'psoe', 'publica', 'publiek', 'publieke', 'publius', 'puffen', 'puigneró', 'puin', 'pukkelpop', 'punt', 'putten', 'puurs', 'pvdabelgie', 'pzantwerpen', 'q7vkm45ksc', 'q81rtjsje6', 'qc5nrqhcjt', 'qcpedsamd0', 'qgyswsqv8q', 'qhblaflrcc', 'qiirumc1wq', 'qjhemzu4gr', 'qkleqskxtm', 'qknnt7t2eg', 'qorrlki6qz', 'qq1goja2hk', 'qua', 'quam', 'quarantaine', 'que', 'question', 'quod', 'qvwehdj62w', 'qw0t0k23py', 'qxow0wanxe', 'r6qoj3psa8', 'r72kxisdwq', 'raad', 'raadpleging', 'raak', 'raakt', 'racisme', 'radio1', 'radio1be', 'radio2', 'raf', 'rafliekens', 'rafterwingen', 'rainville', 'rake', 'raken', 'ramp', 'rangen', 'ranking', 'ranst', 'ranzigheid', 'raskinwouter', 'rbfru8u1pa', 'rc1u1kxczx', 'rc5fxmdpxu', 're', 'reactie', 'ready', 'reageert', 'realiseert', 'realiteit', 'recepten', 'receptie', 'recht', 'rechtbank', 'rechten', 'rechter', 'rechts', 'rechtse', 'rechtspraak', 'rechtsstaat', 'rechtvaardig', 'rechtvaardigheid', 'rechtzetten', 'record', 'recordhoogte', 'redacties', 'redding', 'reddingsactie', 'redelijk', 'reden', 'redenen', 'ref', 'referendumcat', 'reflecteren', 'regeerakkoord', 'regenbui', 'regent', 'regering', 'regeringsdeelname', 'regeringsleiders', 'regeringslid', 'regime', 'regio', 'reiken', 'reiziger', 'reken', 'rekenen', 'rekening', 'relancebeleid', 'relaties', 'relevante', 'relevanter', 'religies', 'religieuze', 'rendeert', 'reneehubert3', 'renovado', 'reparatiewet', 'res', 'resolutie', 'resoluut', 'respect', 'respecteer', 'respecteert', 'respecteren', 'respectvol', 'ressebcnvf', 'rest', 'resultaat', 'resultaten', 'retweets', 'rfe2czvedp', 'riedeltjes', 'riemen', 'rien', 'right', 'rijke', 'ring', 'rip', 'riskeert', 'riyako3uu6', 'rm14ifbxbl', 'robuust', 'rode', 'roeien', 'roekeloze', 'roer', 'roger', 'rol', 'rollerofmats', 'rolmodel', 'romance', 'rome', 'romeinen', 'rond', 'ronde', 'rood', 'roodgroene', 'roots', 'rousseau', 'rq22jlzejz', 'rqnpcn0hwz', 'rqtnpfvs9k', 'rrkpfshks3', 'rtfgfcnkho', 'ru7szuzvpl', 'rubyora', 'rudidekerpel', 'ruger48f', 'ruimte', 'rumble', 'rust', 'rusthuis', 'rusthuisprijzen', 'rusthuizen', 'rustige', 'rutten', 'ruttengwendolyn', 'rvb', 'rwlrpo59tt', 'ry09qqcpxu', 'rzz4ckwnwb', 's8oja01npq', 'sabine', 'safer', 'sahel', 'said', 'saidbataray', 'salm0nd', 'samen', 'samenerdoor', 'samengesteld', 'samenleven', 'samenleving', 'samentegencorona', 'samenwerken', 'samenwerking', 'sammymahdi', 'san', 'sanchezcastejon', 'say6f0vamv', 'sc8vjguwxh', 'schaamrood', 'schaamte', 'schaamteloos', 'schaarse', 'schaf', 'schakel', 'schaken', 'schande', 'scheiding', 'schelde', 'schending', 'schepen', 'scherpe', 'schets', 'schijnt', 'schitterende', 'schoffeerde', 'schokkende', 'school', 'schoolbanken', 'schoolbonus', 'schooldag', 'schoolfacturen', 'schooluitstap', 'schouder', 'schouders', 'schrapt', 'schreef', 'schreeuwen', 'schrijf', 'schrijft', 'schuift', 'schulden', 'scouts', 'scruton', 'se', 'secundair', 'segersben', 'segersgilles', 'seksueel', 'senioren', 'seniorenzorg', 'sensoa', 'september', 'serait', 'sereen', 'sergio', 'serieus', 'serieux', 'serieuze', 'servaisv', 'sevilayaltinta4', 'sfypxr3gst', 'shake', 'shirt', 'shout', 'si', 'sic', 'signaal', 'sihameelk', 'simon', 'simpel', 'simpelweg', 'sinds', 'sinjoren', 'sirppxv8sx', 'sisbnermel', 'sixgy9k9xv', 'skfu4ltjvk', 'skype', 'slaan', 'slaat', 'slachtofferhulp', 'slachtoffers', 'slag', 'slagen', 'slagkrachtige', 'slecht', 'slechts', 'sliepen', 'slim', 'slimme', 'slothoofdstuk', 'sluit', 'sluiten', 'sluizen', 'smet', 'smnmmnn', 'smoes', 'sms', 'snbhnhznrt', 'snd60fcy6o', 'snel', 'snelheid', 'snelle', 'sneuvelen', 'snijdt', 'soc', 'sociaal', 'social', 'sociale', 'socialer', 'socialista', 'socialisten', 'sokkel', 'solidair', 'solidairinmoeilijketijden', 'solidariteit', 'solución', 'solution', 'solve', 'sombere', 'sommige', 'song', 'soon', 'soort', 'sophie_wilmes', 'sorry', 'soumission', 'soziales', 'sp', 'sp_a', 'spa', 'spaanse', 'spaart', 'spaghettimonster', 'spain', 'spdde', 'speciale', 'specifieke', 'specifiekere', 'speedypass', 'speelde', 'speelveld', 'spelen', 'spelers', 'spelletjes', 'spelregels', 'spijbelen', 'spitsenduo', 'splitsen', 'splitsing', 'sporen', 'sport', 'spreadlovenothate', 'spreek', 'spreekt', 'spreekwoordelijke', 'spreken', 'spuwen', 'sqol7kcszc', 'sr9im2j1nf', 'sri', 'st2vnktcqx', 'sta', 'staakt', 'staan', 'staande', 'staat', 'staatsschuld', 'staatsvorm', 'stad', 'stadgent', 'stadsbestuur', 'stadsbewoners', 'stadsgenoten', 'stages', 'stal', 'stand', 'standaard', 'standpunt', 'standpunten', 'stap', 'stappen', 'staren', 'starkes', 'start', 'startnota', 'statuut', 'steden', 'steeds', 'steek', 'steekt', 'stefaanmarkyze', 'stefaansintobin', 'steken', 'stel', 'stellen', 'stelt', 'stem', 'stemhokje', 'stemmen', 'stemming', 'stemrecht', 'stephaniedhose', 'sterk', 'sterke', 'sterker', 'sterkte', 'sterrenreview', 'sterven', 'steun', 'steunbetuiging', 'steunen', 'steunpakket', 'steve_vdb', 'stevig', 'stevige', 'sthbracke', 'stiekem', 'stierf', 'stijgt', 'stijl', 'stil', 'stilstaan', 'stilte', 'stilzwijgen', 'stoere', 'stof', 'stoken', 'stond', 'stonden', 'stop', 'stopdestilstand', 'stoppen', 'stopt', 'storm', 'stormram', 'stort', 'story', 'straat', 'strafbaar', 'strafte', 'straks', 'strangers', 'strategie', 'streek', 'street', 'strengere', 'streven', 'strijd', 'strijden', 'stroomplan', 'stroomt', 'structurele', 'structuren', 'stubru', 'studie', 'studiedienst', 'studiekeuze', 'studieresultaten', 'stuk', 'stukje', 'stuur', 'subjectief', 'subsidies', 'succes', 'sunt', 'superattent', 'supermarkten', 'supernova', 'supertrots', 'sutcu1obq6', 'sv6zfbdmjx', 'sven_nys', 'svengatz', 'svhecke', 'sx6afd9csr', 'sy1ewd4wra', 'symboolregering', 'sympathiek', 'sympathisanten', 'systeem', 'system', 'systemen', 't7f1jsj60b', 'taak', 'taal', 'taalachterstand', 'taalbadjaren', 'taalwetenschappers', 'tafel', 'taks', 'talent', 'talk', 'tant', 'targets', 'tate', 'tav', 'tax', 'taxtq8eml6', 'tbosseloo', 'tcvokqulig', 'td9zidthu1', 'tdrp5vtxug', 'tdwnk6vjsz', 'te', 'team', 'teamann', 'techfestival', 'technische', 'technologische', 'tegelijk', 'tegen', 'tegengehouden', 'tegengewerkt', 'tegenhouden', 'tegenstand', 'tegenstanders', 'tegenstelling', 'tegenwerken', 'tegenwicht', 'teken', 'tekenden', 'tekens', 'tekent', 'tekort', 'tekortschiet', 'tekst', 'teksten', 'telewerk', 'tell', 'telt', 'tem', 'temperaturen', 'ten', 'teniet', 'ter', 'terecht', 'terechte', 'termen', 'termijn', 'termijnen', 'terreinkennis', 'terreur', 'terreuraanslag', 'terreurdaad', 'terreurstrijders', 'terug', 'terugdraaien', 'teruggedrongen', 'terugkeer', 'terugkeren', 'terugtreden', 'terwijl', 'terzake', 'terzaketv', 'tessminnens', 'teustvg', 'teweeg', 'tfbtwwiuoa', 'than', 'thanks', 'that', 'the', 'thema', 'they', 'thibau', 'thing', 'this', 'thomasvanbier', 'thomasvanwing', 'thoughts', 'thuis', 'thx', 'tienduizenden', 'tienerjaren', 'tiens', 'tijd', 'tijden', 'tijdens', 'tijdsgeest', 'tijdsrekening', 'tijdvoorambitie', 'tilt', 'time', 'times', 'tine', 'tinyo68nul', 'tip', 'titel', 'titels', 'tnufqnz1ub', 'to', 'toch', 'toe', 'toegeving', 'toekomst', 'toekomstgericht', 'toekomstgerichte', 'toekomstige', 'toelaat', 'toelichten', 'toen', 'toeren', 'toespraak', 'toestand', 'toevallig', 'toevoegen', 'tol', 'tolereren', 'tom', 'tomeloze', 'tomplesier', 'tomvangrieken', 'tonen', 'toni_comin', 'too', 'toonaangevend', 'toont', 'toorts', 'top', 'topavond', 'toppers', 'topprioriteit', 'tops', 'toptalent', 'tot', 'totstandkoming', 'tousensemble', 'tout', 'tov', 'toward', 'tqd3gxvgjr', 'tqqafnoezd', 'traditionele', 'tragisch', 'tragische', 'tram', 'transport', 'treffende', 'treft', 'treinen', 'trekt', 'triest', 'trieste', 'trippen', 'troef', 'trof', 'trots', 'trotse', 'trouwe', 'trouwens', 'truiendag', 'tso', 'tufi8nd1pt', 'tunnel', 'turkse', 'tussen', 'tussenoorlogenleven', 'twee', 'tweede', 'tweet', 'tweeten', 'tweets', 'twijfel', 'twitter', 'typfout', 'typischvlaamsezinnetjes', 'tziycw5v46', 'u33vnymsjy', 'u36crz3xqq', 'u6uaoxezk4', 'u8mptivuct', 'ua0mmy1r2y', 'udbglkpugm', 'uefa', 'uego74o9kp', 'ugent', 'uit', 'uitbetalingen', 'uitbreiding', 'uitdaging', 'uitdagingen', 'uiteindelijk', 'uiten', 'uiteraard', 'uiterste', 'uitgebreid', 'uitgemaakt', 'uitgeoefend', 'uitgerekend', 'uitgesloten', 'uitgestoten', 'uitgevonden', 'uitgewerkt', 'uitgewist', 'uithalen', 'uithangen', 'uithollen', 'uiting', 'uitkomst', 'uitkomt', 'uitleg', 'uitleggen', 'uitlokken', 'uitnodigen', 'uitnodiging', 'uitslaat', 'uitsluitend', 'uitsluiting', 'uitstappen', 'uitstekende', 'uitstel', 'uitstoten', 'uitverkoop', 'uitvinding', 'uitvindingen', 'uitwijzen', 'uitzetten', 'uitzetting', 'uitzichtloze', 'uitzonderlijke', 'ultramoderne', 'um', 'un', 'una', 'unaniem', 'und', 'une', 'uniek', 'unieke', 'unique', 'unitarisme', 'united', 'unq3vctcp6', 'uns', 'unserer', 'up', 'upgrade', 'uqk71uhvbw', 'urban', 'uur', 'uurtje', 'uuvtbhksly', 'uw', 'uwxqaxut6y', 'uzelf', 'uzv4crk6tb', 'v4djem2yb1', 'v8gg6h1g0f', 'va', 'vaak', 'vaccin', 'vadderivrt', 'vader', 'vage', 'valentrein', 'vallen', 'van', 'vanaf', 'vanavond', 'vanbuiten', 'vancalsterpaul', 'vandaag', 'vandaan', 'vanderstraeten', 'vangen', 'vanmiddag', 'vanuit', 'vanzelfsprekend', 'vast', 'vastgesteld', 'vaststellen', 'vatten', 'vb', 'vb_kamer', 'vbj', 'vbjongeren', 'vbo', 'vbofeb125', 'vd', 'vdab', 'vdag', 've', 'vecht', 'vechten', 'veel', 'veelzijdig', 'vegas', 'veilig', 'veilige', 'veiliger', 'veiligheid', 'veiligheidsbeleid', 'veiligheidsdiensten', 'vejrphbw7g', 'vele', 'ventje', 'ver', 'veranderen', 'verandering', 'verantwoordelijk', 'verantwoordelijkheid', 'verarmen', 'verband', 'verbanning', 'verbergen', 'verbeteren', 'verbetering', 'verbinden', 'verbindt', 'verblijfspapieren', 'verbod', 'verdedigd', 'verdedigen', 'verdedigt', 'verder', 'verdiend', 'verdienen', 'verdient', 'verdraagzaaheid', 'verdraagzaamheid', 'verdwijnen', 'vereende', 'vereisen', 'vereisten', 'verenigd', 'verenigen', 'vergelijkingen', 'vergenoeg13', 'vergeten', 'vergeven', 'vergiet', 'vergoelijkingen', 'vergt', 'verhaal', 'verhinderde', 'verhinderen', 'verhogen', 'verhopen', 'verjaardag', 'verkeerd', 'verkiesbaar', 'verkiezingen', 'verklaarde', 'verkozen', 'verkozenen', 'verlaagd', 'verlaagt', 'verleden', 'verlichte', 'verlichting', 'verlies', 'verliest', 'verliezen', 'verloor', 'verlore', 'verloren', 'vermeden', 'vermeersch', 'vermeulenniels', 'vermeylens', 'vermoord', 'vermoorde', 'vernieling', 'vernieuwing', 'verontwaardiging', 'veroordelen', 'verpleegkundige', 'verpleegkundigen', 'verpleegster', 'verplichte', 'verrichten', 'verschaffen', 'verscheen', 'verschenen', 'verschillen', 'verschrikkelijk', 'verschrikkelijke', 'verslaan', 'verstand', 'versterk', 'versterken', 'vertaalt', 'vertaling', 'vertellen', 'vertolking', 'vertrekken', 'vertrokken', 'vertrouwen', 'vervoer', 'verwaarloos', 'verwacht', 'verwachten', 'verwarmd', 'verwarren', 'verwerving', 'verwezenlijken', 'verwijt', 'verwijten', 'verzet', 'verzetten', 'verzuring', 'verzwakken', 'veto', 'vfij2fqio3', 'vfjymxgmna', 'vfngpmycdf', 'via', 'vice', 'victorhoppe3', 'video', 'vier', 'vieren', 'viering', 'viert', 'vijf', 'vind', 'vinden', 'vindt', 'vinger', 'virus', 'visie', 'vita', 'vivaldi', 'vj0mqqmo9x', 'vjcrwxw2yx', 'vk19', 'vl', 'vlaams', 'vlaamse', 'vlaamsparlement', 'vlaanderen', 'vlag', 'vlakken', 'vlaming', 'vlamingen', 'vlapar', 'vlaparl', 'vlareg', 'vlbelang', 'vld', 'vlees', 'vleugels', 'vliegend', 'vliegenier', 'vlot', 'vlucht', 'vluchtelingenkinderen', 'vluchten', 'vlxdanny', 'vlywu4dfin', 'vmbeppn4k0', 'vmuz0sv3vu', 'vn', 'voelen', 'voelt', 'voer', 'voeren', 'voertuig', 'voet', 'voetjes', 'vogeltje', 'vohy9w87oj', 'vol', 'volder1', 'voldoende', 'volg', 'volgelingen', 'volgen', 'volgende', 'volgens', 'volgt', 'volhouden', 'volk', 'volkinnood', 'volksgezondheid', 'volksvertegenwoordigers', 'volle', 'volmachten', 'volop', 'volstrekt', 'volwaardige', 'volwassen', 'volwassenen', 'voners', 'voor', 'vooraf', 'vooral', 'vooralsnog', 'voorbeeld', 'voorbeeldje', 'voorbij', 'voorbije', 'voordelen', 'voorkomen', 'voorlas', 'voorleest', 'vooroordelen', 'voorop', 'voorspeld', 'voorstel', 'voorstellen', 'voorstelt', 'voortdurende', 'voortouw', 'voortrekkers', 'vooruit', 'vooruitgang', 'voorzet', 'voorzien', 'voorzitter', 'voorzitterschap', 'voorzittersronde', 'vorderingensaldo', 'vorige', 'vorm', 'vormen', 'vorming', 'vos65926604', 'vous', 'vr', 'vr8nsmbwme', 'vraag', 'vragen', 'vrede', 'vredesproces', 'vreemde', 'vreemdelingenzaken', 'vreemden', 'vreesden', 'vreest', 'vreselijke', 'vreten', 'vriend', 'vrienden', 'vriendjespolitiek', 'vriendschap', 'vriendt', 'vrij', 'vrijdag', 'vrije', 'vrijheid', 'vrijkomen', 'vrijlaten', 'vrijspraak', 'vrijwilliger', 'vrijzinnig', 'vroeg', 'vrouw', 'vrouwelijke', 'vrouwen', 'vrouwendag', 'vrouwennaam', 'vrt', 'vruchten', 'vs', 'vswrg973o9', 'vu6ltvnhei', 'vuurwerk', 'véél', 'vör', 'w8ckdvycfo', 'waalse', 'waar', 'waarbij', 'waard', 'waarde', 'waardeer', 'waarden', 'waarderen', 'waardering', 'waardig', 'waardige', 'waardigheid', 'waardoor', 'waarheid', 'waarin', 'waarom', 'waarop', 'wacht', 'wachten', 'wachtlijsten', 'waelberserik', 'waken', 'walen', 'wallonië', 'walterpeeters3', 'wangen', 'wanneer', 'want', 'wantrouwen', 'wapenstilstand', 'ware', 'waren', 'warm', 'warme', 'warmste', 'warmte', 'warmtedrones', 'warmterecords', 'warren', 'was', 'wat', 'watch', 'wbeke', 'wcd', 'we', 'webmaster', 'wecandance', 'wecandancefest', 'wedstrijd', 'weefsel', 'week', 'weer', 'weerleggen', 'wees', 'weesluider', 'weet', 'weg', 'weggeblazen', 'wegnemen', 'wegwerken', 'weigeren', 'weigert', 'weinig', 'weiter', 'weken', 'wekker', 'wel', 'welbekend', 'welcome', 'welk', 'welke', 'welkom', 'well', 'wellicht', 'welvaart', 'welvaartsmotor', 'welvarend', 'welwillende', 'welzijn', 'wens', 'wenselijk', 'wensen', 'werd', 'werden', 'wereld', 'wereldkampioen', 'wereldoorlog', 'wereldstad', 'wereldwijd', 'werft', 'werk', 'werkelijke', 'werken', 'werkende', 'werkt', 'werpt', 'west', 'wet', 'weten', 'wetgeving', 'wetsvoorstel', 'wetten', 'wetteren', 'weyts', 'wfschiltz', 'wgcvbtqeag', 'wh2nogrdsm', 'wh8uoesaee', 'why', 'wie', 'wielemie', 'wiens', 'wiet', 'wij', 'wijsmaken', 'wijzen', 'wil', 'wilden', 'wilfried', 'wilfried_mag', 'will', 'willemmoreel', 'willen', 'wilrijk', 'wim', 'winkelbedienden', 'winkels', 'winst', 'winstscenario', 'winteruur', 'wir', 'wissel', 'wiswaswos', 'wjir6mdomx', 'wkopqverj0', 'wmfjyyr1qb', 'woekerprijs', 'wohkzkc72m', 'woman', 'wonden', 'woning', 'woonstbetredingen', 'woonzorgcentra', 'woord', 'woorden', 'woordvoerder', 'word', 'worden', 'wordt', 'wouter', 'wow', 'wpoybhttjv', 'wpqitxuiv6', 'wr1nvfywvk', 'wrok', 'wvz1mmjnh2', 'wvz3p9tava', 'wwrbcsh8fx', 'wzc', 'wzcs', 'wél', 'x2lmpz45wq', 'x3dms0b3pc', 'x7cxnpoeln', 'x9fvpodka9', 'xbcfz3ulsl', 'xc3mwpsl5j', 'xc6qszlfkx', 'xfsfsffm6u', 'xgvvpmjdza', 'xindif4ujo', 'xmumlngtak', 'xnr3qmeud8', 'xsra9mha24', 'xujh2vhjkb', 'xumxcfa947', 'xxd8godzsj', 'xxvfdc2gqu', 'y5xnsq4uev', 'y7pbzqbelg', 'yakkjoo8mq', 'yasmine', 'year', 'yeswecan', 'yirxjd1k0z', 'ynni0jck3j', 'yoooo', 'yorickdupon', 'you', 'young', 'youtube', 'ysfgacrjhu', 'yt0lh6horq', 'yuvalharari', 'yxgnanunpa', 'yxtupytyyj', 'yy5ot1urxe', 'yyvwjp4ej5', 'yzbsgyssgj', 'yzqjp30yyy', 'z1bvludjnw', 'z48lzbpgae', 'z4x6qzxmtp', 'z7rkhwma5m', 'zaaien', 'zaak', 'zacht', 'zagen', 'zakdoek', 'zake', 'zaken', 'zal', 'zalig', 'zdx2bnmeuk', 'ze', 'zeeland', 'zeer', 'zeg', 'zegeviert', 'zeggen', 'zegt', 'zeh', 'zei', 'zeker', 'zekerheid', 'zelf', 'zelfbeschiking', 'zelfbeschikking', 'zelfbewuste', 'zelfde', 'zelfdoding', 'zelfmoordcijfers', 'zelfmoordlijn', 'zelfmoordpoging', 'zelfmoordpreventie', 'zelfs', 'zelfvertrouwen', 'zen', 'zes', 'zet', 'zetten', 'zhsaatmsqo', 'zich', 'zicht', 'zichzelf', 'zie', 'zieken', 'ziekenhuis', 'ziekenhuizen', 'ziekte', 'ziel', 'zien', 'zienswijze', 'ziet', 'zij', 'zijn', 'zin', 'zinvol', 'zjb3hl56vf', 'zk4mgnjjcn', 'zkdrtu8kry', 'zkqpqboqif', 'zkrxyuy5wu', 'zlnlab7ol7', 'zmrbxyvs8y', 'zo', 'zoals', 'zocht', 'zodat', 'zoek', 'zoeken', 'zoekwerk', 'zoiets', 'zomaar', 'zon', 'zondag', 'zonder', 'zonet', 'zoniet', 'zoon', 'zorg', 'zorgen', 'zorgend', 'zorggoedvoorelkaar', 'zorgpersoneel', 'zorgsector', 'zot', 'zotternijen', 'zou', 'zouden', 'zoveel', 'zowel', 'zozeer', 'zu', 'zulke', 'zullen', 'zum', 'zusammen', 'zusterpartij', 'zusterstad', 'zuvor', 'zwaar', 'zwak', 'zwakkeren', 'zware', 'zweedse', 'zwijg', 'zwijgen', 'zélf', 'zónder', 'ál', 'álle', 'áls', 'échte', 'én', 'één', 'êtes']\n",
            "(595, 4300)\n"
          ],
          "name": "stdout"
        }
      ]
    },
    {
      "cell_type": "markdown",
      "metadata": {
        "id": "gl_0Cyx-zrKo",
        "colab_type": "text"
      },
      "source": [
        "### 2. Applying generic Machine Learning classifiers\n",
        "Given our datapoints (the rows in X) and the labels, we are ready to run some basic classifiers. First, in order to evaluate our models properly, we need to split our data into **training data** and **test data**.\n",
        "\n",
        "**TASK**: use the 'train_test_split' function to split the data automatically. Make sure this is done in a **random** manner."
      ]
    },
    {
      "cell_type": "code",
      "metadata": {
        "id": "FTvT4Z7bzrKq",
        "colab_type": "code",
        "colab": {}
      },
      "source": [
        "from sklearn.model_selection import train_test_split\n",
        "\n",
        "X_train, X_test, y_train, y_test = train_test_split(X, labels, shuffle=True, random_state=2020)"
      ],
      "execution_count": 0,
      "outputs": []
    },
    {
      "cell_type": "markdown",
      "metadata": {
        "id": "DNKJT9vszrKw",
        "colab_type": "text"
      },
      "source": [
        "Now can train our models on the train data, and evaluate them on the test data. We will start by applying a [Decision Tree Classifier](https://scikit-learn.org/stable/modules/tree.html)  and a [Naive Bayes Classifier](https://scikit-learn.org/stable/modules/naive_bayes.html). To check **accuracy**, we simply count the number of times the classifier correctly predicted the label on the test data. "
      ]
    },
    {
      "cell_type": "code",
      "metadata": {
        "id": "Ng-3rNr-zrKx",
        "colab_type": "code",
        "colab": {
          "base_uri": "https://localhost:8080/",
          "height": 51
        },
        "outputId": "937a68d8-5563-4595-b77c-c9d6b55028df"
      },
      "source": [
        "from sklearn import tree\n",
        "from sklearn.naive_bayes import MultinomialNB\n",
        "\n",
        "# Decision Tree Classifier\n",
        "model_tree = tree.DecisionTreeClassifier(random_state=1) # Setting random_state = 1, to remove randomness in fitting.\n",
        "model_tree = model_tree.fit(X_train, y_train)\n",
        "y_predict = model_tree.predict(X_test)\n",
        "accuracy_tree = np.sum(y_predict == y_test)\n",
        "print('Decision Tree accuracy:'+'\\t'+repr(accuracy_tree))\n",
        "\n",
        "# Naive Bayes Classifier:\n",
        "model_bayes = MultinomialNB()\n",
        "model_bayes = model_bayes.fit(X_train, y_train)\n",
        "y_predict = model_bayes.predict(X_test)\n",
        "accuracy_bayes = np.sum(y_predict == y_test)\n",
        "print('Naive Bayes accuracy:'+'\\t'+repr(accuracy_bayes))"
      ],
      "execution_count": 11,
      "outputs": [
        {
          "output_type": "stream",
          "text": [
            "Decision Tree accuracy:\t63\n",
            "Naive Bayes accuracy:\t77\n"
          ],
          "name": "stdout"
        }
      ]
    },
    {
      "cell_type": "markdown",
      "metadata": {
        "id": "wT2t_qApzrK4",
        "colab_type": "text"
      },
      "source": [
        "Now that we have a model, we will try to improve it. The first thing we can try, is to **redefine our corpus**.\n",
        "There are two problems with our current corpus:\n",
        "\n",
        "   a. There are many tweets with **urls** in them, which is clearly not informative in the classification.\n",
        "   \n",
        "   b. We have not removed the **stopwords** from the corpus (= very common words without much meaning).\n",
        "\n",
        "**TASK**: Make a new corpus, where the urls + Dutch stopwords are removed. Test the difference in performance of the classifiers. Explain why the performance, at first sight, might not have improved.\n",
        "\n"
      ]
    },
    {
      "cell_type": "code",
      "metadata": {
        "id": "UxLZqTQuzrK6",
        "colab_type": "code",
        "colab": {
          "base_uri": "https://localhost:8080/",
          "height": 69
        },
        "outputId": "7247029e-cdb8-406b-dad2-b41703e3015f"
      },
      "source": [
        "# Download the Dutch stop words from the NLTK repository.\n",
        "nltk.download('stopwords')"
      ],
      "execution_count": 12,
      "outputs": [
        {
          "output_type": "stream",
          "text": [
            "[nltk_data] Downloading package stopwords to /root/nltk_data...\n",
            "[nltk_data]   Package stopwords is already up-to-date!\n"
          ],
          "name": "stdout"
        },
        {
          "output_type": "execute_result",
          "data": {
            "text/plain": [
              "True"
            ]
          },
          "metadata": {
            "tags": []
          },
          "execution_count": 12
        }
      ]
    },
    {
      "cell_type": "code",
      "metadata": {
        "id": "0Dglppg9zrK_",
        "colab_type": "code",
        "colab": {
          "base_uri": "https://localhost:8080/",
          "height": 54
        },
        "outputId": "3e33fe48-8d7a-4357-b039-bd7e610928ac"
      },
      "source": [
        "from nltk.corpus import stopwords\n",
        "\n",
        "## Removing the links from the tweets (starting with https:// until a space)\n",
        "# HINT: iterate over the corpus, and use re.sub function to replace 'https' pieces with an empty string ''. \n",
        "corpus_no_url = [re.sub('https://\\S* ', '', tweet) for tweet in corpus]\n",
        "    \n",
        "## Removing stopwords from Dutch language\n",
        "# HINT: Split the words in a tweet, only keep words that are not in stopWords, then join the seperate words into a string.\n",
        "stopWords = set(stopwords.words('dutch'))\n",
        "corpus_no_stops_no_url = [' '.join([token for token in tweet.split(' ') if not token in stopWords]) for tweet in corpus_no_url]\n",
        "\n",
        "print(corpus_no_stops_no_url[0:5])"
      ],
      "execution_count": 13,
      "outputs": [
        {
          "output_type": "stream",
          "text": [
            "['In Antwerpen nam onze politie eerste woekerprijs aangeboden mondmaskers beslag bracht ziekenhuis. \\n👉 Ziet zoiets? \\n📞 Meld aub politie @PZAntwerpen ! 👮🏻\\u200d♀️👮🏻\\u200d♂️', 'Veel steun dezer dagen werkt zorg distributie, winkels supermarkten, hulpdiensten, leerkrachten enz. \\n\\nDraag zorg elkaar denk klavertjevier: handen, hou veilige afstand, blijf thuis nies zakdoek elleboog. 🍀 https://t.co/LGPH43twNr', 'Dit belangrijkste standpunten wij verdedigen onderhandelingstafel: 👇\\nhttps://t.co/jl1jzH6tQv', 'We nemen akte PS-dictaat. Tegen Vlaamse kiezer hen links mogelijke regering komen, meerderheid Vlaanderen. De PS zelfs verkiezingen uitlokken, enkel alleen hoop N-VA verzwakken zichzelf versterken. https://t.co/U6UaoxeZk4', 'In ranking @FT schuift Antwerpen 2de plaats lijst beste grote steden investeren. De Vlaamse welvaartsmotor draait volle toeren. Wat we doen, we echt beter. Investeringen recordhoogte, optimistisch onze toekomst. https://t.co/Acpg3CfIkx']\n"
          ],
          "name": "stdout"
        }
      ]
    },
    {
      "cell_type": "code",
      "metadata": {
        "id": "uBhdj4eJzrLD",
        "colab_type": "code",
        "colab": {
          "base_uri": "https://localhost:8080/",
          "height": 51
        },
        "outputId": "86655812-3040-4988-8646-ca0abacc1b62"
      },
      "source": [
        "# Performance testing with the new corpus\n",
        "# Now we convert this corpus to a numeric matrix X:\n",
        "vectorizer = CountVectorizer()\n",
        "X = vectorizer.fit_transform(corpus_no_stops_no_url)\n",
        "\n",
        "X_train, X_test, y_train, y_test = train_test_split(X, labels, shuffle=True, random_state=2020)\n",
        "\n",
        "# Decision Tree Classifier\n",
        "model_tree = tree.DecisionTreeClassifier(random_state=1) # Setting random_state = 1, to remove randomness in fitting.\n",
        "model_tree = model_tree.fit(X_train, y_train)\n",
        "y_predict = model_tree.predict(X_test)\n",
        "accuracy_tree = np.sum(y_predict == y_test)\n",
        "print('Decision Tree accuracy:'+'\\t'+repr(accuracy_tree))\n",
        "\n",
        "# Naive Bayes Classifier:\n",
        "model_bayes = MultinomialNB()\n",
        "model_bayes = model_bayes.fit(X_train, y_train)\n",
        "y_predict = model_bayes.predict(X_test)\n",
        "accuracy_bayes = np.sum(y_predict == y_test)\n",
        "print('Naive Bayes accuracy:'+'\\t'+repr(accuracy_bayes))"
      ],
      "execution_count": 14,
      "outputs": [
        {
          "output_type": "stream",
          "text": [
            "Decision Tree accuracy:\t71\n",
            "Naive Bayes accuracy:\t86\n"
          ],
          "name": "stdout"
        }
      ]
    },
    {
      "cell_type": "markdown",
      "metadata": {
        "id": "Ot-crw20zrLJ",
        "colab_type": "text"
      },
      "source": [
        "**Give a couple of reasons why the accuracy might not be higher than with the original corpus:**\n",
        "\n",
        "The accuracy of both the Decision Tree and the Naive Bayes classifier went up.\n",
        "For the Decision Tree classifier, the accuracy increased from 63 to 71.\n",
        "For the Naive Bayes classifier, the accuracy increased from 77 to 86.\n",
        "\n",
        "By removing the URLs and stopwords, a lot of clutter is removed from the dataset.\n",
        "These did not contribute towards a correct classification and even 'distracted' the classifier from important information.\n",
        "Now the classifiers can focus on words or word groups that really matter."
      ]
    }
  ]
}