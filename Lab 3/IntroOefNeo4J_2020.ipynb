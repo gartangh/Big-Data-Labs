{
 "cells": [
  {
   "cell_type": "markdown",
   "metadata": {},
   "source": [
    "# Graph Databases: Intro to Neo4J and Cypher\n",
    "![Neo4J Logo](http://neo4j.com/wp-content/themes/neo4jweb/assets/images/neo4j-logo-2015.png)\n",
    "![PyNeo](http://py2neo.org/v3/_static/py2neo-2016.260x152.png)"
   ]
  },
  {
   "cell_type": "markdown",
   "metadata": {},
   "source": [
    "# Introduction\n",
    "\n",
    "Neo4J is a very different type of database than most others. In fact it is a persistent **linked list graph representation**. The alternative for this layout is seen in **triple stores** which basically stores each triplet in 3 columns. The advantage of this data layout for Neo4J is that it can find its neighbouring nodes in O(1) time since it just has to follow pointers (O(N) in case of triple layout!). This makes this database very suitable for queries requiring **graph traversal**, for example for route planning. Since a traversal always has a source point Neo4J also has the ability to store **indexes** in order to easily find the starting points for traveral tasks, thus avoiding a full scan of all nodes.\n"
   ]
  },
  {
   "cell_type": "markdown",
   "metadata": {},
   "source": [
    "# Py2Neo\n",
    "\n",
    "1. In Jupyter (start window) open a terminal (click new > terminal) and install py2neo with: **pip install py2neo **\n",
    "2. Py2Neo essentials: https://py2neo.org/v4/\n",
    "3. Neo4J Cypher query language: https://neo4j.com/docs/cypher-manual/current/\n",
    "\n",
    "\n"
   ]
  },
  {
   "cell_type": "code",
   "execution_count": 1,
   "metadata": {},
   "outputs": [],
   "source": [
    "import py2neo"
   ]
  },
  {
   "cell_type": "code",
   "execution_count": 2,
   "metadata": {
    "scrolled": false
   },
   "outputs": [
    {
     "name": "stdout",
     "output_type": "stream",
     "text": [
      "<Graph database=<Database uri='bolt://193.191.169.38:7687' secure=False user_agent='py2neo/4.3.0 neobolt/1.7.16 Python/3.7.6-final-0 (linux)'> name='data'>\n"
     ]
    }
   ],
   "source": [
    "from py2neo import Graph\n",
    "\n",
    "ip_virtual_wall = \"193.191.169.38\"\n",
    "user = 'neo4j'\n",
    "user_pass_tup = ('neo4j', 'admin')\n",
    "port = '7687'\n",
    "\n",
    "# set up authentication parameters\n",
    "connect_string = \"bolt://\" + ip_virtual_wall + \":\" + port\n",
    "\n",
    "# connect to authenticated graph database\n",
    "graph = Graph(connect_string, auth=user_pass_tup)\n",
    "print(graph)\n"
   ]
  },
  {
   "cell_type": "code",
   "execution_count": 3,
   "metadata": {},
   "outputs": [],
   "source": [
    "# reset the graph\n",
    "graph.delete_all()"
   ]
  },
  {
   "cell_type": "markdown",
   "metadata": {},
   "source": [
    "# 1. Getting familiar with Py2Neo\n",
    "### a. Creating nodes and edges in Py2Neo\n",
    "\n",
    "* https://py2neo.org/v4/data.html#node-and-relationship-objects\n",
    "* https://py2neo.org/v4/database.html#the-graph"
   ]
  },
  {
   "cell_type": "code",
   "execution_count": 4,
   "metadata": {},
   "outputs": [],
   "source": [
    "from py2neo import Node, Relationship\n",
    "\n",
    "alice = Node(\"Person\", name=\"Alice\")\n",
    "bob = Node(\"Person\", name=\"Bob\")\n",
    "alice_knows_bob = Relationship(alice, \"KNOWS\", bob, since=2002)\n",
    "\n",
    "# graph create 'persists' adds this relationship to Neo4J database\n",
    "graph.create(alice_knows_bob)"
   ]
  },
  {
   "cell_type": "markdown",
   "metadata": {},
   "source": [
    "#### Check the neo4J interface at < ip >:7474 to verify the nodes were created\n",
    "\n",
    "* Click on the database icon (left + top), and click on one of the node labels or relationship types\n",
    "\n",
    "\n"
   ]
  },
  {
   "cell_type": "markdown",
   "metadata": {},
   "source": [
    "### b. Update "
   ]
  },
  {
   "cell_type": "code",
   "execution_count": 5,
   "metadata": {},
   "outputs": [
    {
     "data": {
      "text/plain": [
       "(_6627:Person:Woman {name: 'Alice'})"
      ]
     },
     "execution_count": 5,
     "metadata": {},
     "output_type": "execute_result"
    }
   ],
   "source": [
    "alice.add_label(\"Woman\")\n",
    "\n",
    "alice"
   ]
  },
  {
   "cell_type": "markdown",
   "metadata": {},
   "source": [
    "#### Again check the Neo4J interface and verify whether a new Node label is present?\n",
    "\n",
    "* <b> Important: </b> Client side objects are not automatically persisted, you'll have to push your changes!"
   ]
  },
  {
   "cell_type": "code",
   "execution_count": 6,
   "metadata": {},
   "outputs": [],
   "source": [
    "alice.add_label(\"Woman\")\n",
    "alice['age'] = 33\n",
    "bob[\"age\"] = 44\n",
    "\n",
    "#push the changes\n",
    "graph.push(alice)\n",
    "graph.push(bob)"
   ]
  },
  {
   "cell_type": "markdown",
   "metadata": {},
   "source": [
    "* Properties are closely related to dictionaries, labels to sets"
   ]
  },
  {
   "cell_type": "code",
   "execution_count": 7,
   "metadata": {},
   "outputs": [
    {
     "name": "stdout",
     "output_type": "stream",
     "text": [
      "(_6627:Person:Woman {age: 33, name: 'Alice'})\n",
      "(_6628:Person {age: 44, name: 'Bob'})\n",
      ":Person:Woman\n",
      "{'name': 'Alice', 'age': 33}\n",
      "{'since': 2002}\n"
     ]
    }
   ],
   "source": [
    "print (alice)\n",
    "print (bob)\n",
    "\n",
    "print(alice.labels)\n",
    "print(dict(alice))\n",
    "\n",
    "print(dict(alice_knows_bob))"
   ]
  },
  {
   "cell_type": "markdown",
   "metadata": {},
   "source": [
    "# Exercise 1: Exploring (your) family tree with Py2Neo\n",
    "\n",
    "### 1a. Create a list of nodes and relationships representing a family tree or (for example the simpsons, but you can choose)\n",
    "\n",
    "![Simpsons](http://www.englishexercises.org/exercisesmaker/uploads/images/1621353/nueva.png)\n",
    "\n",
    "Details on <a href=\"http://simpsons.wikia.com/wiki/Simpson_family\"> wikia </a>\n",
    "\n",
    "\n",
    "* Use the relationships: FATHER_OF, MOTHER_OF, TOGETHER_WITH\n",
    "* Add birthyear and first name as properties and gender as a label\n",
    "* Calculate the number of relationships and family members\n",
    "* Check in Neo4J browser for correctness (are all relationships present + node labels?)"
   ]
  },
  {
   "cell_type": "code",
   "execution_count": 8,
   "metadata": {},
   "outputs": [],
   "source": [
    "graph.delete_all()\n",
    "\n",
    "abe = Node(\"Person\", name=\"Abe\", birthyear=None)\n",
    "abe.add_label(\"Man\")\n",
    "mona = Node(\"Person\", name=\"Mona\", birthyear=1929)\n",
    "mona.add_label(\"Woman\")\n",
    "\n",
    "herb = Node(\"Person\", name=\"Herb\", birthyear=None)\n",
    "herb.add_label(\"Man\")\n",
    "\n",
    "\n",
    "homer = Node(\"Person\", name=\"Homer\", birthyear=1950)\n",
    "homer.add_label(\"Man\")\n",
    "marge = Node(\"Person\", name=\"Marge\", birthyear=1960)\n",
    "marge.add_label(\"Woman\")\n",
    "bart = Node(\"Person\", name=\"Bart\", birthyear=1985)\n",
    "bart.add_label(\"Man\")\n",
    "lisa = Node(\"Person\", name=\"Lisa\", birthyear=1987)\n",
    "lisa.add_label(\"Woman\")\n",
    "maggie = Node(\"Person\", name=\"Maggie\", birthyear=1989)\n",
    "maggie.add_label(\"Woman\")\n",
    "\n",
    "\n",
    "clancy = Node(\"Person\", name=\"Clancy\", birthyear=1918)\n",
    "clancy.add_label(\"Man\")\n",
    "jacqueline = Node(\"Person\", name=\"Jacqueline\", birthyear=1919)\n",
    "jacqueline.add_label(\"Woman\")\n",
    "\n",
    "patty = Node(\"Person\", name=\"Patty\", birthyear=1952)\n",
    "patty.add_label(\"Woman\")\n",
    "selma = Node(\"Person\", name=\"Selma\", birthyear=1952)\n",
    "selma.add_label(\"Woman\")\n",
    "ling = Node(\"Person\", name=\"Ling\", birthyear=1988)\n",
    "ling.add_label(\"Woman\")\n",
    "\n",
    "nodes = [homer,marge,bart,lisa,maggie]"
   ]
  },
  {
   "cell_type": "code",
   "execution_count": 9,
   "metadata": {},
   "outputs": [],
   "source": [
    "edges = [\n",
    "    Relationship(abe, \"TOGETHER_WITH\", mona),\n",
    "    Relationship(abe, \"FATHER_OF\", herb),\n",
    "    Relationship(abe, \"FATHER_OF\", homer),\n",
    "    Relationship(mona, \"MOTHER_OF\", herb),\n",
    "    Relationship(mona, \"MOTHER_OF\", homer),\n",
    "    \n",
    "    Relationship(homer, \"TOGETHER_WITH\", marge),\n",
    "    Relationship(homer, \"FATHER_OF\", bart),\n",
    "    Relationship(homer, \"FATHER_OF\", lisa),\n",
    "    Relationship(homer, \"FATHER_OF\", maggie),\n",
    "    Relationship(marge, \"MOTHER_OF\", bart),\n",
    "    Relationship(marge, \"MOTHER_OF\", lisa),\n",
    "    Relationship(marge, \"MOTHER_OF\", maggie),\n",
    "    \n",
    "    Relationship(clancy, \"TOGETHER_WITH\", jacqueline),\n",
    "    Relationship(clancy, \"FATHER_OF\", marge),\n",
    "    Relationship(clancy, \"FATHER_OF\", selma),\n",
    "    Relationship(clancy, \"FATHER_OF\", patty),\n",
    "    Relationship(jacqueline, \"MOTHER_OF\", marge),\n",
    "    Relationship(jacqueline, \"MOTHER_OF\", selma),\n",
    "    Relationship(jacqueline, \"MOTHER_OF\", patty),\n",
    "    \n",
    "    Relationship(selma, \"MOTHER_OF\", ling)\n",
    "]"
   ]
  },
  {
   "cell_type": "code",
   "execution_count": 10,
   "metadata": {},
   "outputs": [],
   "source": [
    "from py2neo import Subgraph\n",
    "\n",
    "subgraph = Subgraph(nodes, edges)\n",
    "graph.create(subgraph)\n"
   ]
  },
  {
   "cell_type": "code",
   "execution_count": 11,
   "metadata": {},
   "outputs": [
    {
     "name": "stdout",
     "output_type": "stream",
     "text": [
      "The number of nodes in my family tree is: 13\n",
      "The number of relationships in my family tree is: 20\n"
     ]
    }
   ],
   "source": [
    "print(\"The number of nodes in my family tree is: \" + str(len(graph.nodes)))\n",
    "print(\"The number of relationships in my family tree is: \" + str(len(graph.relationships)))\n"
   ]
  },
  {
   "cell_type": "markdown",
   "metadata": {},
   "source": [
    "### Export the Neo4J graph visualization to svg and add it to your lab submission (double click on the markdown cells to see how to import images)\n",
    "![graph.svg](graph.svg)"
   ]
  },
  {
   "cell_type": "code",
   "execution_count": 12,
   "metadata": {},
   "outputs": [],
   "source": [
    "#export from the browser, no code needed here!"
   ]
  },
  {
   "cell_type": "markdown",
   "metadata": {},
   "source": [
    "## Intermezzo: Finding nodes and edges\n",
    "\n",
    "* Have a look at the py2neo documentation, specifically for the following functions:\n",
    "    - match, match_one\n",
    "    - merge\n",
    "    - New in version v4 is that you can select with .nodes and .relationships!"
   ]
  },
  {
   "cell_type": "markdown",
   "metadata": {
    "collapsed": true
   },
   "source": [
    "### 1b. Finding relationships and nodes\n",
    "\n",
    "* Find all couples in the family tree and print their names\n",
    "* Find all of your direct relatives and print their names, and the relationship\n",
    "* Find all males, print their names and birth year"
   ]
  },
  {
   "cell_type": "code",
   "execution_count": 13,
   "metadata": {},
   "outputs": [
    {
     "name": "stdout",
     "output_type": "stream",
     "text": [
      "Homer is together with Marge\n",
      "Clancy is together with Jacqueline\n",
      "Abe is together with Mona\n"
     ]
    }
   ],
   "source": [
    "for rel in graph.match(r_type=\"TOGETHER_WITH\"):\n",
    "    print(rel.start_node[\"name\"] + \" is together with \" + rel.end_node[\"name\"])"
   ]
  },
  {
   "cell_type": "code",
   "execution_count": 14,
   "metadata": {},
   "outputs": [
    {
     "name": "stdout",
     "output_type": "stream",
     "text": [
      "Maggie\n",
      "Abe\n",
      "Lisa\n",
      "Bart\n",
      "Mona\n"
     ]
    }
   ],
   "source": [
    "for rel in graph.match({homer}, r_type=[\"FATHER_OF\", \"MOTHER_OF\"]): # all relatives from homer -> NO TOGETHER_WITH\n",
    "    if rel.end_node[\"name\"] != \"Homer\":\n",
    "        print(rel.end_node[\"name\"])\n",
    "    else:\n",
    "        print(rel.start_node[\"name\"])"
   ]
  },
  {
   "cell_type": "code",
   "execution_count": 15,
   "metadata": {},
   "outputs": [
    {
     "name": "stdout",
     "output_type": "stream",
     "text": [
      "Homer : 1950\n",
      "Bart : 1985\n",
      "Herb : None\n",
      "Clancy : 1918\n",
      "Abe : None\n"
     ]
    }
   ],
   "source": [
    "# Tip: In the graph class you can specifically match nodes or relationships\n",
    "matcher = py2neo.NodeMatcher(graph)\n",
    "men = matcher.match(\"Man\")\n",
    "\n",
    "for node in men:\n",
    "    print(node[\"name\"] + \" : \" + str(node[\"birthyear\"]))"
   ]
  },
  {
   "cell_type": "markdown",
   "metadata": {},
   "source": [
    "### 1c. Find all siblings and write a function to add all SIBLING_OF relationships\n",
    "\n",
    "* Sibling: A sibling is one of two or more individuals having one or both parents in common.\n"
   ]
  },
  {
   "cell_type": "code",
   "execution_count": 16,
   "metadata": {},
   "outputs": [
    {
     "name": "stdout",
     "output_type": "stream",
     "text": [
      "(Homer)-[:IS_SIBLING_OF {}]->(Herb)\n",
      "(Bart)-[:IS_SIBLING_OF {}]->(Maggie)\n",
      "(Bart)-[:IS_SIBLING_OF {}]->(Lisa)\n",
      "(Maggie)-[:IS_SIBLING_OF {}]->(Lisa)\n",
      "(Selma)-[:IS_SIBLING_OF {}]->(Marge)\n",
      "(Selma)-[:IS_SIBLING_OF {}]->(Patty)\n",
      "(Marge)-[:IS_SIBLING_OF {}]->(Patty)\n"
     ]
    }
   ],
   "source": [
    "# this functions creates all unique (!) sibling relationships (the edges can be in both directions)\n",
    "def createSiblings(graph):\n",
    "    sibling_rels = []\n",
    "    for node1 in matcher.match(\"Person\"):\n",
    "        for node2 in matcher.match(\"Person\"):\n",
    "            if (node1 != node2 and node1.identity < node2.identity ):\n",
    "                father1 = graph.match((None,node1), r_type = \"FATHER_OF\").first()\n",
    "                father2 = graph.match((None,node2), r_type = \"FATHER_OF\").first()\n",
    "                mother1 = graph.match((None,node1), r_type = \"MOTHER_OF\").first()\n",
    "                mother2 = graph.match((None,node2), r_type = \"MOTHER_OF\").first()\n",
    "                \n",
    "                if (not((father1==None and mother1==None) or (father2==None and mother2==None))):\n",
    "                    if (father1!= None) : father1 = father1.start_node\n",
    "                    if (father2!= None) : father2 = father2.start_node\n",
    "                    if (mother1!= None) : mother1 = mother1.start_node\n",
    "                    if (mother2!= None) : mother2 = mother2.start_node\n",
    "\n",
    "                    if (father1 == father2 or mother1==mother2):\n",
    "                        siblings_rel = Relationship(node1, \"IS_SIBLING_OF\", node2)\n",
    "                        print(siblings_rel)\n",
    "                        sibling_rels.append(siblings_rel)\n",
    "    return sibling_rels\n",
    "\n",
    "# add siblings to graph\n",
    "siblings = createSiblings(graph)\n",
    "siblings_subgraph = Subgraph(nodes, siblings)\n",
    "graph.create(siblings_subgraph)"
   ]
  },
  {
   "cell_type": "markdown",
   "metadata": {
    "collapsed": true
   },
   "source": [
    "# Exercise 2: Exploring family tree with Cypher\n",
    "## Intermezzo: Cypher query language\n",
    "\n",
    "The Cypher query language is quite intuitive, you <b>MATCH</b> graph patterns in a rather visual fashion:\n",
    "* Nodes: (n1:labelname {prop:'propvalue'})\n",
    "* Edges: -->, -- (undirected) , -[REL]->\n",
    "\n",
    "* In the current version of the Py2Neo API we can convert the result of a query directly to a dataframe\n",
    "\n",
    "* The <b>WITH</b> clause allows query parts to be chained together, piping the results from one to be used as starting points or criteria in the next. (see also https://neo4j.com/docs/cypher-manual/current/clauses/with/)"
   ]
  },
  {
   "cell_type": "code",
   "execution_count": 17,
   "metadata": {},
   "outputs": [
    {
     "data": {
      "text/html": [
       "<div>\n",
       "<style scoped>\n",
       "    .dataframe tbody tr th:only-of-type {\n",
       "        vertical-align: middle;\n",
       "    }\n",
       "\n",
       "    .dataframe tbody tr th {\n",
       "        vertical-align: top;\n",
       "    }\n",
       "\n",
       "    .dataframe thead th {\n",
       "        text-align: right;\n",
       "    }\n",
       "</style>\n",
       "<table border=\"1\" class=\"dataframe\">\n",
       "  <thead>\n",
       "    <tr style=\"text-align: right;\">\n",
       "      <th></th>\n",
       "      <th>n</th>\n",
       "    </tr>\n",
       "  </thead>\n",
       "  <tbody>\n",
       "    <tr>\n",
       "      <th>0</th>\n",
       "      <td>{'birthyear': 1950, 'name': 'Homer'}</td>\n",
       "    </tr>\n",
       "    <tr>\n",
       "      <th>1</th>\n",
       "      <td>{'birthyear': 1985, 'name': 'Bart'}</td>\n",
       "    </tr>\n",
       "    <tr>\n",
       "      <th>2</th>\n",
       "      <td>{'name': 'Herb'}</td>\n",
       "    </tr>\n",
       "    <tr>\n",
       "      <th>3</th>\n",
       "      <td>{'birthyear': 1918, 'name': 'Clancy'}</td>\n",
       "    </tr>\n",
       "    <tr>\n",
       "      <th>4</th>\n",
       "      <td>{'name': 'Abe'}</td>\n",
       "    </tr>\n",
       "  </tbody>\n",
       "</table>\n",
       "</div>"
      ],
      "text/plain": [
       "                                       n\n",
       "0   {'birthyear': 1950, 'name': 'Homer'}\n",
       "1    {'birthyear': 1985, 'name': 'Bart'}\n",
       "2                       {'name': 'Herb'}\n",
       "3  {'birthyear': 1918, 'name': 'Clancy'}\n",
       "4                        {'name': 'Abe'}"
      ]
     },
     "execution_count": 17,
     "metadata": {},
     "output_type": "execute_result"
    }
   ],
   "source": [
    "# all males\n",
    "query = \"\"\"\n",
    "MATCH (n:Man)\n",
    "RETURN n\n",
    "\"\"\"\n",
    "df = graph.run(query).to_data_frame()\n",
    "df"
   ]
  },
  {
   "cell_type": "code",
   "execution_count": 18,
   "metadata": {},
   "outputs": [
    {
     "data": {
      "text/html": [
       "<div>\n",
       "<style scoped>\n",
       "    .dataframe tbody tr th:only-of-type {\n",
       "        vertical-align: middle;\n",
       "    }\n",
       "\n",
       "    .dataframe tbody tr th {\n",
       "        vertical-align: top;\n",
       "    }\n",
       "\n",
       "    .dataframe thead th {\n",
       "        text-align: right;\n",
       "    }\n",
       "</style>\n",
       "<table border=\"1\" class=\"dataframe\">\n",
       "  <thead>\n",
       "    <tr style=\"text-align: right;\">\n",
       "      <th></th>\n",
       "      <th>n</th>\n",
       "    </tr>\n",
       "  </thead>\n",
       "  <tbody>\n",
       "    <tr>\n",
       "      <th>0</th>\n",
       "      <td>{'birthyear': 1985, 'name': 'Bart'}</td>\n",
       "    </tr>\n",
       "  </tbody>\n",
       "</table>\n",
       "</div>"
      ],
      "text/plain": [
       "                                     n\n",
       "0  {'birthyear': 1985, 'name': 'Bart'}"
      ]
     },
     "execution_count": 18,
     "metadata": {},
     "output_type": "execute_result"
    }
   ],
   "source": [
    "# all males < 40 years old\n",
    "query = \"\"\"\n",
    "MATCH (n:Man)\n",
    "WHERE n.birthyear + 40 > 2020 \n",
    "RETURN n\n",
    "\"\"\"\n",
    "df = graph.run(query).to_data_frame()\n",
    "df"
   ]
  },
  {
   "cell_type": "code",
   "execution_count": 19,
   "metadata": {},
   "outputs": [
    {
     "name": "stdout",
     "output_type": "stream",
     "text": [
      "<Record n=(_6629:Man:Person {birthyear: 1950, name: 'Homer'})>\n",
      "<Record n=(_6629:Man:Person {birthyear: 1950, name: 'Homer'})>\n",
      "<Record n=(_6629:Man:Person {birthyear: 1950, name: 'Homer'})>\n",
      "<Record n=(_6632:Man:Person {birthyear: 1918, name: 'Clancy'})>\n",
      "<Record n=(_6632:Man:Person {birthyear: 1918, name: 'Clancy'})>\n",
      "<Record n=(_6632:Man:Person {birthyear: 1918, name: 'Clancy'})>\n",
      "<Record n=(_6633:Man:Person {name: 'Abe'})>\n",
      "<Record n=(_6633:Man:Person {name: 'Abe'})>\n"
     ]
    }
   ],
   "source": [
    "# all males which have children\n",
    "query = \"\"\"\n",
    "MATCH (n:Man)-[:FATHER_OF]->(m)\n",
    "RETURN n\n",
    "\"\"\"\n",
    "\n",
    "cursor = graph.run(query)\n",
    "for record in cursor:\n",
    "    print(record)"
   ]
  },
  {
   "cell_type": "code",
   "execution_count": 20,
   "metadata": {},
   "outputs": [
    {
     "data": {
      "text/html": [
       "<div>\n",
       "<style scoped>\n",
       "    .dataframe tbody tr th:only-of-type {\n",
       "        vertical-align: middle;\n",
       "    }\n",
       "\n",
       "    .dataframe tbody tr th {\n",
       "        vertical-align: top;\n",
       "    }\n",
       "\n",
       "    .dataframe thead th {\n",
       "        text-align: right;\n",
       "    }\n",
       "</style>\n",
       "<table border=\"1\" class=\"dataframe\">\n",
       "  <thead>\n",
       "    <tr style=\"text-align: right;\">\n",
       "      <th></th>\n",
       "      <th>n</th>\n",
       "    </tr>\n",
       "  </thead>\n",
       "  <tbody>\n",
       "    <tr>\n",
       "      <th>0</th>\n",
       "      <td>{'birthyear': 1950, 'name': 'Homer'}</td>\n",
       "    </tr>\n",
       "    <tr>\n",
       "      <th>1</th>\n",
       "      <td>{'birthyear': 1918, 'name': 'Clancy'}</td>\n",
       "    </tr>\n",
       "    <tr>\n",
       "      <th>2</th>\n",
       "      <td>{'name': 'Abe'}</td>\n",
       "    </tr>\n",
       "  </tbody>\n",
       "</table>\n",
       "</div>"
      ],
      "text/plain": [
       "                                       n\n",
       "0   {'birthyear': 1950, 'name': 'Homer'}\n",
       "1  {'birthyear': 1918, 'name': 'Clancy'}\n",
       "2                        {'name': 'Abe'}"
      ]
     },
     "execution_count": 20,
     "metadata": {},
     "output_type": "execute_result"
    }
   ],
   "source": [
    "# all distinct males which have children\n",
    "query = \"\"\"\n",
    "MATCH (n:Man)-[:FATHER_OF]->(m)\n",
    "RETURN DISTINCT(n)\n",
    "\"\"\"\n",
    "df = graph.run(query).to_data_frame()\n",
    "df"
   ]
  },
  {
   "cell_type": "markdown",
   "metadata": {},
   "source": [
    "### Let's go ALL IN with dataframes!\n"
   ]
  },
  {
   "cell_type": "code",
   "execution_count": 21,
   "metadata": {},
   "outputs": [
    {
     "data": {
      "text/html": [
       "<div>\n",
       "<style scoped>\n",
       "    .dataframe tbody tr th:only-of-type {\n",
       "        vertical-align: middle;\n",
       "    }\n",
       "\n",
       "    .dataframe tbody tr th {\n",
       "        vertical-align: top;\n",
       "    }\n",
       "\n",
       "    .dataframe thead th {\n",
       "        text-align: right;\n",
       "    }\n",
       "</style>\n",
       "<table border=\"1\" class=\"dataframe\">\n",
       "  <thead>\n",
       "    <tr style=\"text-align: right;\">\n",
       "      <th></th>\n",
       "      <th>fathers.name</th>\n",
       "      <th>fathers.birthyear</th>\n",
       "    </tr>\n",
       "  </thead>\n",
       "  <tbody>\n",
       "    <tr>\n",
       "      <th>0</th>\n",
       "      <td>Homer</td>\n",
       "      <td>1950.0</td>\n",
       "    </tr>\n",
       "    <tr>\n",
       "      <th>1</th>\n",
       "      <td>Clancy</td>\n",
       "      <td>1918.0</td>\n",
       "    </tr>\n",
       "    <tr>\n",
       "      <th>2</th>\n",
       "      <td>Abe</td>\n",
       "      <td>NaN</td>\n",
       "    </tr>\n",
       "  </tbody>\n",
       "</table>\n",
       "</div>"
      ],
      "text/plain": [
       "  fathers.name  fathers.birthyear\n",
       "0        Homer             1950.0\n",
       "1       Clancy             1918.0\n",
       "2          Abe                NaN"
      ]
     },
     "execution_count": 21,
     "metadata": {},
     "output_type": "execute_result"
    }
   ],
   "source": [
    "# WITH is a method to pull complicated expressions apart\n",
    "query = \"\"\"\n",
    "MATCH (n:Man)-[:FATHER_OF]->(m)\n",
    "WITH DISTINCT(n) as fathers\n",
    "RETURN fathers.name, fathers.birthyear\n",
    "\"\"\"\n",
    "df = graph.run(query).to_data_frame()\n",
    "df"
   ]
  },
  {
   "cell_type": "markdown",
   "metadata": {},
   "source": [
    "### 2a. By adding an ORDER BY (ASC|DESC) you can sort the results. Write a query to return all sons and order them by age, oldest to yongest."
   ]
  },
  {
   "cell_type": "code",
   "execution_count": 22,
   "metadata": {},
   "outputs": [
    {
     "data": {
      "text/html": [
       "<div>\n",
       "<style scoped>\n",
       "    .dataframe tbody tr th:only-of-type {\n",
       "        vertical-align: middle;\n",
       "    }\n",
       "\n",
       "    .dataframe tbody tr th {\n",
       "        vertical-align: top;\n",
       "    }\n",
       "\n",
       "    .dataframe thead th {\n",
       "        text-align: right;\n",
       "    }\n",
       "</style>\n",
       "<table border=\"1\" class=\"dataframe\">\n",
       "  <thead>\n",
       "    <tr style=\"text-align: right;\">\n",
       "      <th></th>\n",
       "      <th>sons.name</th>\n",
       "      <th>sons.birthyear</th>\n",
       "    </tr>\n",
       "  </thead>\n",
       "  <tbody>\n",
       "    <tr>\n",
       "      <th>0</th>\n",
       "      <td>Homer</td>\n",
       "      <td>1950.0</td>\n",
       "    </tr>\n",
       "    <tr>\n",
       "      <th>1</th>\n",
       "      <td>Bart</td>\n",
       "      <td>1985.0</td>\n",
       "    </tr>\n",
       "    <tr>\n",
       "      <th>2</th>\n",
       "      <td>Herb</td>\n",
       "      <td>NaN</td>\n",
       "    </tr>\n",
       "  </tbody>\n",
       "</table>\n",
       "</div>"
      ],
      "text/plain": [
       "  sons.name  sons.birthyear\n",
       "0     Homer          1950.0\n",
       "1      Bart          1985.0\n",
       "2      Herb             NaN"
      ]
     },
     "execution_count": 22,
     "metadata": {},
     "output_type": "execute_result"
    }
   ],
   "source": [
    "query =  \"\"\"\n",
    "MATCH (n)-[:FATHER_OF | :MOTHER_OF]->(m:Man)\n",
    "WITH DISTINCT(m) as sons\n",
    "RETURN sons.name, sons.birthyear\n",
    "ORDER BY sons.birthyear\n",
    "\"\"\"\n",
    "df = graph.run(query).to_data_frame()\n",
    "df"
   ]
  },
  {
   "cell_type": "markdown",
   "metadata": {},
   "source": [
    "## Intermezzo: Aggregations\n",
    "\n",
    "* AVG, COUNT, SUM,  \n",
    "* MIN, MAX\n",
    "* COLLECT\n",
    "* ..\n",
    "\n",
    "Have a look at the page describing \n",
    "<a href=\"https://neo4j.com/docs/cypher-manual/current/functions/aggregating/\"> aggregations in Cypher </a>\n",
    "\n",
    "### 2b. What is the average age, minimum and maximum age of all mothers"
   ]
  },
  {
   "cell_type": "code",
   "execution_count": 23,
   "metadata": {},
   "outputs": [
    {
     "data": {
      "text/html": [
       "<div>\n",
       "<style scoped>\n",
       "    .dataframe tbody tr th:only-of-type {\n",
       "        vertical-align: middle;\n",
       "    }\n",
       "\n",
       "    .dataframe tbody tr th {\n",
       "        vertical-align: top;\n",
       "    }\n",
       "\n",
       "    .dataframe thead th {\n",
       "        text-align: right;\n",
       "    }\n",
       "</style>\n",
       "<table border=\"1\" class=\"dataframe\">\n",
       "  <thead>\n",
       "    <tr style=\"text-align: right;\">\n",
       "      <th></th>\n",
       "      <th>avg(2020-mothers.birthyear)</th>\n",
       "      <th>min(2020-mothers.birthyear)</th>\n",
       "      <th>max(2020-mothers.birthyear)</th>\n",
       "    </tr>\n",
       "  </thead>\n",
       "  <tbody>\n",
       "    <tr>\n",
       "      <th>0</th>\n",
       "      <td>80.0</td>\n",
       "      <td>60</td>\n",
       "      <td>101</td>\n",
       "    </tr>\n",
       "  </tbody>\n",
       "</table>\n",
       "</div>"
      ],
      "text/plain": [
       "   avg(2020-mothers.birthyear)  min(2020-mothers.birthyear)  \\\n",
       "0                         80.0                           60   \n",
       "\n",
       "   max(2020-mothers.birthyear)  \n",
       "0                          101  "
      ]
     },
     "execution_count": 23,
     "metadata": {},
     "output_type": "execute_result"
    }
   ],
   "source": [
    "query = \"\"\"\n",
    "MATCH (n)-[:MOTHER_OF]->(m)\n",
    "WITH DISTINCT(n) as mothers\n",
    "RETURN avg(2020-mothers.birthyear), min(2020-mothers.birthyear), max(2020-mothers.birthyear)\n",
    "\"\"\"\n",
    "df = graph.run(query).to_data_frame()\n",
    "df"
   ]
  },
  {
   "cell_type": "markdown",
   "metadata": {},
   "source": [
    "### 2c. Get all people who are both father and son"
   ]
  },
  {
   "cell_type": "code",
   "execution_count": 24,
   "metadata": {},
   "outputs": [
    {
     "data": {
      "text/html": [
       "<div>\n",
       "<style scoped>\n",
       "    .dataframe tbody tr th:only-of-type {\n",
       "        vertical-align: middle;\n",
       "    }\n",
       "\n",
       "    .dataframe tbody tr th {\n",
       "        vertical-align: top;\n",
       "    }\n",
       "\n",
       "    .dataframe thead th {\n",
       "        text-align: right;\n",
       "    }\n",
       "</style>\n",
       "<table border=\"1\" class=\"dataframe\">\n",
       "  <thead>\n",
       "    <tr style=\"text-align: right;\">\n",
       "      <th></th>\n",
       "      <th>fathers_and_sons.name</th>\n",
       "    </tr>\n",
       "  </thead>\n",
       "  <tbody>\n",
       "    <tr>\n",
       "      <th>0</th>\n",
       "      <td>Homer</td>\n",
       "    </tr>\n",
       "  </tbody>\n",
       "</table>\n",
       "</div>"
      ],
      "text/plain": [
       "  fathers_and_sons.name\n",
       "0                 Homer"
      ]
     },
     "execution_count": 24,
     "metadata": {},
     "output_type": "execute_result"
    }
   ],
   "source": [
    "query = \"\"\"\n",
    "MATCH (n:Man)-[:FATHER_OF]->(m:Man)-[:FATHER_OF]->(p)\n",
    "WITH DISTINCT(m) as fathers_and_sons\n",
    "RETURN fathers_and_sons.name\n",
    "\"\"\"\n",
    "df = graph.run(query).to_data_frame()\n",
    "df"
   ]
  },
  {
   "cell_type": "markdown",
   "metadata": {},
   "source": [
    "### 2d. Using wildcard syntax (below), output all grandpa(-father-)grandchild relations\n",
    "\n",
    "\n",
    "* [r*2] matches two times this predicate\n",
    "* [r2..3] a range! \n",
    "* r0 includes starting node\n",
    "* r* all paths\n"
   ]
  },
  {
   "cell_type": "code",
   "execution_count": 25,
   "metadata": {},
   "outputs": [
    {
     "data": {
      "text/html": [
       "<div>\n",
       "<style scoped>\n",
       "    .dataframe tbody tr th:only-of-type {\n",
       "        vertical-align: middle;\n",
       "    }\n",
       "\n",
       "    .dataframe tbody tr th {\n",
       "        vertical-align: top;\n",
       "    }\n",
       "\n",
       "    .dataframe thead th {\n",
       "        text-align: right;\n",
       "    }\n",
       "</style>\n",
       "<table border=\"1\" class=\"dataframe\">\n",
       "  <thead>\n",
       "    <tr style=\"text-align: right;\">\n",
       "      <th></th>\n",
       "      <th>n.name</th>\n",
       "      <th>m.name</th>\n",
       "    </tr>\n",
       "  </thead>\n",
       "  <tbody>\n",
       "    <tr>\n",
       "      <th>0</th>\n",
       "      <td>Abe</td>\n",
       "      <td>Bart</td>\n",
       "    </tr>\n",
       "    <tr>\n",
       "      <th>1</th>\n",
       "      <td>Abe</td>\n",
       "      <td>Lisa</td>\n",
       "    </tr>\n",
       "    <tr>\n",
       "      <th>2</th>\n",
       "      <td>Abe</td>\n",
       "      <td>Maggie</td>\n",
       "    </tr>\n",
       "  </tbody>\n",
       "</table>\n",
       "</div>"
      ],
      "text/plain": [
       "  n.name  m.name\n",
       "0    Abe    Bart\n",
       "1    Abe    Lisa\n",
       "2    Abe  Maggie"
      ]
     },
     "execution_count": 25,
     "metadata": {},
     "output_type": "execute_result"
    }
   ],
   "source": [
    "query = \"\"\"\n",
    "MATCH (n:Man)-[:FATHER_OF*2]->(m)\n",
    "RETURN n.name,m.name\n",
    "\"\"\"\n",
    "df = graph.run(query).to_data_frame()\n",
    "df"
   ]
  },
  {
   "cell_type": "markdown",
   "metadata": {},
   "source": [
    "### List functions on paths\n",
    "\n",
    "* <a href=\"https://neo4j.com/docs/cypher-manual/current/functions/list/\">Cypher operations on paths</a>: \n",
    "* **EXTRACT**( identifier in collection | expression )\n",
    "* **REDUCE**( accumulator = initial, identifier in collection | expression )"
   ]
  },
  {
   "cell_type": "markdown",
   "metadata": {
    "collapsed": true
   },
   "source": [
    "### 2e Write a query to have all directed(!) paths starting from a male and ending with a female of length 0..3 in the family tree, return 3 columns:\n",
    "* 'path' is a list of names occurring in the nodes per path\n",
    "* 'relations' is a list of relationships occuring along a path\n",
    "* 'length' is the length of the corresponding path\n",
    "* order the paths according to length (short to long)\n",
    "\n",
    "**NOTE:** Make sure the result is human-readable (clean!)"
   ]
  },
  {
   "cell_type": "code",
   "execution_count": 26,
   "metadata": {},
   "outputs": [
    {
     "data": {
      "text/html": [
       "<div>\n",
       "<style scoped>\n",
       "    .dataframe tbody tr th:only-of-type {\n",
       "        vertical-align: middle;\n",
       "    }\n",
       "\n",
       "    .dataframe tbody tr th {\n",
       "        vertical-align: top;\n",
       "    }\n",
       "\n",
       "    .dataframe thead th {\n",
       "        text-align: right;\n",
       "    }\n",
       "</style>\n",
       "<table border=\"1\" class=\"dataframe\">\n",
       "  <thead>\n",
       "    <tr style=\"text-align: right;\">\n",
       "      <th></th>\n",
       "      <th>path</th>\n",
       "      <th>relationships</th>\n",
       "      <th>length</th>\n",
       "    </tr>\n",
       "  </thead>\n",
       "  <tbody>\n",
       "    <tr>\n",
       "      <th>0</th>\n",
       "      <td>[Homer, Lisa]</td>\n",
       "      <td>[FATHER_OF]</td>\n",
       "      <td>1</td>\n",
       "    </tr>\n",
       "    <tr>\n",
       "      <th>1</th>\n",
       "      <td>[Homer, Maggie]</td>\n",
       "      <td>[FATHER_OF]</td>\n",
       "      <td>1</td>\n",
       "    </tr>\n",
       "    <tr>\n",
       "      <th>2</th>\n",
       "      <td>[Clancy, Patty]</td>\n",
       "      <td>[FATHER_OF]</td>\n",
       "      <td>1</td>\n",
       "    </tr>\n",
       "    <tr>\n",
       "      <th>3</th>\n",
       "      <td>[Clancy, Marge]</td>\n",
       "      <td>[FATHER_OF]</td>\n",
       "      <td>1</td>\n",
       "    </tr>\n",
       "    <tr>\n",
       "      <th>4</th>\n",
       "      <td>[Clancy, Selma]</td>\n",
       "      <td>[FATHER_OF]</td>\n",
       "      <td>1</td>\n",
       "    </tr>\n",
       "    <tr>\n",
       "      <th>5</th>\n",
       "      <td>[Clancy, Marge, Maggie]</td>\n",
       "      <td>[FATHER_OF, MOTHER_OF]</td>\n",
       "      <td>2</td>\n",
       "    </tr>\n",
       "    <tr>\n",
       "      <th>6</th>\n",
       "      <td>[Clancy, Marge, Lisa]</td>\n",
       "      <td>[FATHER_OF, MOTHER_OF]</td>\n",
       "      <td>2</td>\n",
       "    </tr>\n",
       "    <tr>\n",
       "      <th>7</th>\n",
       "      <td>[Clancy, Selma, Ling]</td>\n",
       "      <td>[FATHER_OF, MOTHER_OF]</td>\n",
       "      <td>2</td>\n",
       "    </tr>\n",
       "    <tr>\n",
       "      <th>8</th>\n",
       "      <td>[Abe, Homer, Lisa]</td>\n",
       "      <td>[FATHER_OF, FATHER_OF]</td>\n",
       "      <td>2</td>\n",
       "    </tr>\n",
       "    <tr>\n",
       "      <th>9</th>\n",
       "      <td>[Abe, Homer, Maggie]</td>\n",
       "      <td>[FATHER_OF, FATHER_OF]</td>\n",
       "      <td>2</td>\n",
       "    </tr>\n",
       "  </tbody>\n",
       "</table>\n",
       "</div>"
      ],
      "text/plain": [
       "                      path           relationships  length\n",
       "0            [Homer, Lisa]             [FATHER_OF]       1\n",
       "1          [Homer, Maggie]             [FATHER_OF]       1\n",
       "2          [Clancy, Patty]             [FATHER_OF]       1\n",
       "3          [Clancy, Marge]             [FATHER_OF]       1\n",
       "4          [Clancy, Selma]             [FATHER_OF]       1\n",
       "5  [Clancy, Marge, Maggie]  [FATHER_OF, MOTHER_OF]       2\n",
       "6    [Clancy, Marge, Lisa]  [FATHER_OF, MOTHER_OF]       2\n",
       "7    [Clancy, Selma, Ling]  [FATHER_OF, MOTHER_OF]       2\n",
       "8       [Abe, Homer, Lisa]  [FATHER_OF, FATHER_OF]       2\n",
       "9     [Abe, Homer, Maggie]  [FATHER_OF, FATHER_OF]       2"
      ]
     },
     "execution_count": 26,
     "metadata": {},
     "output_type": "execute_result"
    }
   ],
   "source": [
    "query = \"\"\"\n",
    "MATCH p = (:Man)-[:FATHER_OF | :MOTHER_OF *0..3]->(:Woman)\n",
    "WITH reduce(path=[], n IN nodes(p) | path + n.name ) as path,\n",
    "     reduce(relationships=[], n IN relationships(p) | relationships + type(n)) as relationships,\n",
    "     length(p) as length\n",
    "RETURN path, relationships, length\n",
    "ORDER BY length\n",
    "\"\"\"\n",
    "df = graph.run(query).to_data_frame()\n",
    "df"
   ]
  },
  {
   "cell_type": "markdown",
   "metadata": {},
   "source": [
    "### And Finally: Operations on paths\n",
    "\n",
    "* <a href=\"https://neo4j.com/docs/cypher-manual/current/clauses/match/#query-shortest-path\"> Shortest Path Query </a>\n",
    "* <a href=\"https://neo4j.com/docs/cypher-manual/current/clauses/match/#all-shortest-paths\"> All Shortest Paths </a>\n",
    "\n",
    "**NOTE:** These functions will be used in the next notebook on route planning!\n",
    "\n",
    "\n",
    "\n",
    "# You finished part I, proceed to part II on route planning!"
   ]
  },
  {
   "cell_type": "code",
   "execution_count": null,
   "metadata": {},
   "outputs": [],
   "source": []
  }
 ],
 "metadata": {
  "kernelspec": {
   "display_name": "Python 3",
   "language": "python",
   "name": "python3"
  },
  "language_info": {
   "codemirror_mode": {
    "name": "ipython",
    "version": 3
   },
   "file_extension": ".py",
   "mimetype": "text/x-python",
   "name": "python",
   "nbconvert_exporter": "python",
   "pygments_lexer": "ipython3",
   "version": "3.7.6"
  }
 },
 "nbformat": 4,
 "nbformat_minor": 1
}
